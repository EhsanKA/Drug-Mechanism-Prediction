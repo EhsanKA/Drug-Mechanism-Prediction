{
 "cells": [
  {
   "cell_type": "code",
   "execution_count": 269,
   "metadata": {},
   "outputs": [],
   "source": [
    "import tensorflow as tf\n",
    "import numpy as np\n",
    "import math"
   ]
  },
  {
   "cell_type": "code",
   "execution_count": 312,
   "metadata": {},
   "outputs": [],
   "source": [
    "def distance_matrix(position):\n",
    "    distance = np.zeros((position.shape[0], position.shape[0]), dtype = np.float32)\n",
    "    for i in range(position.shape[0]):\n",
    "        for j in range(position.shape[0]):\n",
    "            distance[i][j] = (position[i][0] - position[j][0])**2 + (position[i][1] - position[j][1])**2\n",
    "    return distance\n",
    "\n"
   ]
  },
  {
   "cell_type": "code",
   "execution_count": 441,
   "metadata": {},
   "outputs": [],
   "source": [
    "x = tf.placeholder(shape=[None, None], dtype=tf.float32, name=\"x\")\n",
    "y = tf.placeholder(shape=[None, 1], dtype=tf.float32, name=\"y\")\n",
    "possition = tf.placeholder(shape=[None,None], dtype=tf.float32, name=\"possition\")\n",
    "\n",
    "\n",
    "sig1 = tf.Variable(0.1, dtype=tf.float32, name=\"sig1\")\n",
    "sig2 = tf.Variable(0.1, dtype=tf.float32, name=\"sig2\")\n",
    "sig3 = tf.Variable(0.1, dtype=tf.float32, name=\"sig3\")\n",
    "sig4 = tf.Variable(0.1, dtype=tf.float32, name=\"sig4\")\n",
    "\n",
    "\n",
    "### cov_matrix1 sigma* matrix      xxxxxxxxxxxxxxxxxxxxxx\n",
    "xxt = tf.matmul(x, tf.transpose(x))\n",
    "sig1_pow2 = tf.pow(sig1, 2)\n",
    "\n",
    "cov_matrix1 = sig1_pow2 * xxt\n",
    "\n",
    "\n",
    "### cov_matrix2 sigma* matrix\n",
    "def env_pos(x):\n",
    "    return tf.exp(((-1)*(0.5)*x)/(tf.pow(l,2)))\n",
    "\n",
    "zzt = tf.map_fn(env_pos, possition)\n",
    "\n",
    "l = tf.Variable(1, dtype=tf.float32, name=\"l\")\n",
    "sig2_pow2 = tf.pow(sig2, 2)\n",
    "\n",
    "cov_matrix2 = sig2_pow2 * zzt \n",
    "\n",
    "\n",
    "### cov_matrix3 sigma* matrix\n",
    "mask = tf.ones_like(xxt) - tf.eye(tf.shape(xxt)[0])\n",
    "weight = tf.math.multiply(mask, zzt)\n",
    "zx = tf.matmul(weight, x)\n",
    "zxxzt = tf.matmul(zx, tf.transpose(zx))\n",
    "sig3_pow2 = tf.pow(sig3, 2)\n",
    "\n",
    "cov_matrix3 = sig3_pow2 * zxxzt \n",
    "\n",
    "\n",
    "### cov_matrix4 sigma* matrix\n",
    "noise = tf.eye(tf.shape(xxt)[0])\n",
    "sig4_pow2 = tf.pow(sig4, 2)\n",
    "\n",
    "cov_matrix4 = sig4_pow2 * noise\n",
    "\n",
    "\n",
    "###### main covariance matrix\n",
    "cov_matrix = cov_matrix1+ cov_matrix2+ cov_matrix3+ cov_matrix4\n",
    "\n",
    "\n",
    "##### log likelihood term1\n",
    "cov_det = tf.linalg.det(cov_matrix)\n",
    "cov_inv = tf.linalg.inv(cov_matrix)\n",
    "loss_term1 = tf.matmul(tf.matmul(tf.transpose(y), cov_inv), y)\n",
    "\n",
    "##### log likelihood term2\n",
    "loss_term2 = tf.log(cov_det)\n",
    "\n",
    "#### loss function :log likelihood without constant vairable n/2log(pi)\n",
    "loss = tf.add(loss_term1, loss_term2)\n",
    "\n",
    "### optimizer\n",
    "optimizer = tf.train.AdamOptimizer().minimize(loss)"
   ]
  },
  {
   "cell_type": "code",
   "execution_count": 435,
   "metadata": {},
   "outputs": [],
   "source": [
    "\n",
    "\n",
    "# def env_pos(x):\n",
    "#     return tf.exp(((-1)*(0.5)*x)/(tf.pow(l,2)))\n",
    "\n",
    "\n",
    "# possition = tf.Variable(np.asarray([[1, 0], [0, 8]]),dtype=tf.float32)\n",
    "# sess = tf.Session()\n",
    "# l = 1.0\n",
    "# sess.run(possition.initializer)\n",
    "# zzt = tf.map_fn(env_pos, possition)\n",
    "# print(sess.run(zzt))\n"
   ]
  },
  {
   "cell_type": "code",
   "execution_count": 436,
   "metadata": {},
   "outputs": [
    {
     "name": "stdout",
     "output_type": "stream",
     "text": [
      "(296, 2)\n",
      "(296, 1)\n",
      "float64\n",
      "(296, 296)\n",
      "float32\n",
      "(296, 25)\n",
      "float64\n"
     ]
    }
   ],
   "source": [
    "import pandas as pd\n",
    "\n",
    "##### data\n",
    "\n",
    "# expressions = pd.read_csv('expressions.txt',sep=\" \").loc[0:1]\n",
    "# expressions = expressions[expressions.columns[0:3]]\n",
    "# posit = pd.read_csv('positions.txt', sep=\",\", header=None).loc[0:1]\n",
    "# print(posit.shape)\n",
    "\n",
    "expressions = pd.read_csv('expressions.txt',sep=\" \")\n",
    "posit = pd.read_csv('positions.txt', sep=\",\", header=None)\n",
    "print(posit.shape)\n",
    "\n",
    "y1 = expressions['CD20'].values\n",
    "y1 = y1.reshape(y1.shape[0],1)\n",
    "# y1.dtype = np.float32\n",
    "print(y1.shape)\n",
    "print(y1.dtype)\n",
    "pos1 = distance_matrix(posit.values)\n",
    "# pos1.dtype = np.float32\n",
    "print(pos1.shape)\n",
    "print(pos1.dtype)\n",
    "x1 = expressions.drop(columns=['CD20']).values\n",
    "# x1.dtype = np.float32\n",
    "print(x1.shape)\n",
    "print(x1.dtype)\n"
   ]
  },
  {
   "cell_type": "code",
   "execution_count": 401,
   "metadata": {},
   "outputs": [],
   "source": [
    "# posit"
   ]
  },
  {
   "cell_type": "code",
   "execution_count": 442,
   "metadata": {},
   "outputs": [
    {
     "name": "stdout",
     "output_type": "stream",
     "text": [
      "[[ 4.6313568e+01 -4.3426723e+00 -5.4564911e-01 ... -7.5140797e-02\n",
      "   6.3513392e-01  2.0213360e-02]\n",
      " [-4.3426466e+00  4.3178734e+01 -5.6341940e-01 ... -7.2242868e-01\n",
      "   1.1952133e+00 -1.5068620e-01]\n",
      " [-5.4566914e-01 -5.6339252e-01  4.7323921e+01 ... -1.1317786e-01\n",
      "  -5.6536001e-01 -8.2051599e-01]\n",
      " ...\n",
      " [-7.4284926e-02 -7.2328949e-01 -1.1344336e-01 ...  4.7411011e+01\n",
      "  -3.4823599e-01  2.3919688e-01]\n",
      " [ 6.3547355e-01  1.1951436e+00 -5.6528711e-01 ... -3.4778431e-01\n",
      "   4.7435535e+01 -7.2218126e-01]\n",
      " [ 1.9915814e-02 -1.5057683e-01 -8.2050234e-01 ...  2.3974372e-01\n",
      "  -7.2289133e-01  3.3488979e+01]]\n"
     ]
    }
   ],
   "source": [
    "with tf.Session() as sess:\n",
    "    sess.run(tf.global_variables_initializer())\n",
    "    for i in range(1):\n",
    "        a, b, c, d = sess.run([cov_matrix, zzt, cov_det, cov_inv], feed_dict= {x:x1, y:y1, possition: pos1})\n",
    "        \n",
    "        \n",
    "#         b = sess.run(zzt, feed_dict= {x:x1, y:y1, possition: pos1})\n",
    "#         c = sess.run(cov_matrix3, feed_dict= {x:x1, y:y1, possition: pos1})\n",
    "#         d = sess.run(cov_matrix4, feed_dict= {x:x1, y:y1, possition: pos1})\n",
    "#         cv = sess.run(cov_matrix, feed_dict= {x:x1, y:y1, possition: pos1})\n",
    "\n",
    "#         e = sess.run(x, feed_dict= {x:x1, y:y1, possition: pos1})\n",
    "#         f = sess.run(loss_term2, feed_dict= {x:x1, y:y1, possition: pos1}) \n",
    "#         g = sess.run(cov_det, feed_dict= {x:x1, y:y1, possition: pos1})\n",
    "#         sess.run(optimizer, feed_dict= {x:x1, y:y1, possition: pos1})\n",
    "        \n",
    "#         los = sess.run(loss, feed_dict= {x:x1, y:y1, possition: pos1})\n",
    "#         sigs = sess.run([sig1, sig2, sig3, sig4], feed_dict={x:x1, y:y1, possition: pos1})\n",
    "#         print(sigs)\n",
    "print(d)"
   ]
  },
  {
   "cell_type": "code",
   "execution_count": 432,
   "metadata": {
    "scrolled": false
   },
   "outputs": [
    {
     "name": "stdout",
     "output_type": "stream",
     "text": [
      "[1. 0. 0. 0. 0. 0. 0. 0. 0. 0. 0. 0. 0. 0. 0. 0. 0. 0. 0. 0. 0. 0. 0. 0.\n",
      " 0. 0. 0. 0. 0. 0. 0. 0. 0. 0. 0. 0. 0. 0. 0. 0. 0. 0. 0. 0. 0. 0. 0. 0.\n",
      " 0. 0. 0. 0. 0. 0. 0. 0. 0. 0. 0. 0. 0. 0. 0. 0. 0. 0. 0. 0. 0. 0. 0. 0.\n",
      " 0. 0. 0. 0. 0. 0. 0. 0. 0. 0. 0. 0. 0. 0. 0. 0. 0. 0. 0. 0. 0. 0. 0. 0.\n",
      " 0. 0. 0. 0. 0. 0. 0. 0. 0. 0. 0. 0. 0. 0. 0. 0. 0. 0. 0. 0. 0. 0. 0. 0.\n",
      " 0. 0. 0. 0. 0. 0. 0. 0. 0. 0. 0. 0. 0. 0. 0. 0. 0. 0. 0. 0. 0. 0. 0. 0.\n",
      " 0. 0. 0. 0. 0. 0. 0. 0. 0. 0. 0. 0. 0. 0. 0. 0. 0. 0. 0. 0. 0. 0. 0. 0.\n",
      " 0. 0. 0. 0. 0. 0. 0. 0. 0. 0. 0. 0. 0. 0. 0. 0. 0. 0. 0. 0. 0. 0. 0. 0.\n",
      " 0. 0. 0. 0. 0. 0. 0. 0. 0. 0. 0. 0. 0. 0. 0. 0. 0. 0. 0. 0. 0. 0. 0. 0.\n",
      " 0. 0. 0. 0. 0. 0. 0. 0. 0. 0. 0. 0. 0. 0. 0. 0. 0. 0. 0. 0. 0. 0. 0. 0.\n",
      " 0. 0. 0. 0. 0. 0. 0. 0. 0. 0. 0. 0. 0. 0. 0. 0. 0. 0. 0. 0. 0. 0. 0. 0.\n",
      " 0. 0. 0. 0. 0. 0. 0. 0. 0. 0. 0. 0. 0. 0. 0. 0. 0. 0. 0. 0. 0. 0. 0. 0.\n",
      " 0. 0. 0. 0. 0. 0. 0. 0.]\n",
      "1.0\n"
     ]
    }
   ],
   "source": [
    "# print(a.shape)\n",
    "# print(b.shape)\n",
    "# print(c.shape)\n",
    "# print(d.shape)\n",
    "#print(a[0])\n",
    "#print(c)\n",
    "# print(e)\n",
    "# # print(f.shape)\n",
    "# print(cv)\n",
    "# print(g)\n",
    "# print(cov_inv.shape)\n",
    "# print(cov_inv)"
   ]
  },
  {
   "cell_type": "code",
   "execution_count": 416,
   "metadata": {},
   "outputs": [
    {
     "data": {
      "text/plain": [
       "inf"
      ]
     },
     "execution_count": 416,
     "metadata": {},
     "output_type": "execute_result"
    }
   ],
   "source": [
    "np.linalg.det(a[0])"
   ]
  },
  {
   "cell_type": "code",
   "execution_count": null,
   "metadata": {},
   "outputs": [],
   "source": []
  }
 ],
 "metadata": {
  "kernelspec": {
   "display_name": "Python 3",
   "language": "python",
   "name": "python3"
  },
  "language_info": {
   "codemirror_mode": {
    "name": "ipython",
    "version": 3
   },
   "file_extension": ".py",
   "mimetype": "text/x-python",
   "name": "python",
   "nbconvert_exporter": "python",
   "pygments_lexer": "ipython3",
   "version": "3.6.8"
  }
 },
 "nbformat": 4,
 "nbformat_minor": 2
}

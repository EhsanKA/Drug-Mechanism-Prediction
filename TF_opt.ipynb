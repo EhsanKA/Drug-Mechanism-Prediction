{
 "cells": [
  {
   "cell_type": "code",
   "execution_count": 14,
   "metadata": {},
   "outputs": [],
   "source": [
    "import tensorflow as tf\n",
    "import numpy as np\n",
    "import math\n",
    "import matplotlib.pyplot as plt\n",
    "import scipy\n",
    "import scipy as sp\n",
    "import pandas as pd"
   ]
  },
  {
   "cell_type": "code",
   "execution_count": 53,
   "metadata": {},
   "outputs": [
    {
     "data": {
      "image/png": "[encoded data removed]",
      "text/plain": [
       "<Figure size 432x288 with 1 Axes>"
      ]
     },
     "metadata": {
      "needs_background": "light"
     },
     "output_type": "display_data"
    },
    {
     "data": {
      "image/png": "[encoded data removed]",
      "text/plain": [
       "<Figure size 432x288 with 1 Axes>"
      ]
     },
     "metadata": {
      "needs_background": "light"
     },
     "output_type": "display_data"
    }
   ],
   "source": [
    "# ####### this for test on calculation correlation between environment and interaction matrices for all proteins\n",
    "\n",
    "# import os\n",
    "\n",
    "# path = '/home/maximus/Documents/bcb/svca/code/svca/SVCA/examples/IMC_one_example/P1_SAy10x1_G1/results/'\n",
    "\n",
    "# files = []\n",
    "# # r=root, d=directories, f = files\n",
    "# for r, d, f in os.walk(path):\n",
    "#     for file in f:\n",
    "#         if 'matrices.txt' in file:\n",
    "#             files.append(os.path.join(r, file))\n",
    "\n",
    "            \n",
    "# correlations = []\n",
    "# for j in range(len(prot_names)):\n",
    "#     matrices = []\n",
    "#     for i in range(4):\n",
    "\n",
    "#         file = pd.read_csv(path + prot_names[j] + '_0_interactions'+str(i) +'_matrices.txt',sep=\" \", header= None)\n",
    "#     #     print(file.values[0][0])\n",
    "#         matrices.append(file.values)\n",
    "#     correlations.append(np.corrcoef(matrices[1].reshape(-1), matrices[2].reshape(-1))[0,1])\n",
    "#     # posit = pd.read_csv('P1_SAy10x1_G1/positions.txt', sep=\",\", header=None)\n",
    "\n",
    "# plt.plot(correlations)\n",
    "# plt.show()\n",
    "# plt.hist(correlations)\n",
    "# plt.show()"
   ]
  },
  {
   "cell_type": "code",
   "execution_count": 3,
   "metadata": {},
   "outputs": [],
   "source": [
    "# Functions in numpy\n",
    "\n",
    "def distance_matrix(position):\n",
    "    distance = np.zeros((position.shape[0], position.shape[0]), dtype = np.float64)\n",
    "    for i in range(position.shape[0]):\n",
    "        for j in range(position.shape[0]):\n",
    "            distance[i][j] = (position[i][0] - position[j][0])**2 + (position[i][1] - position[j][1])**2\n",
    "    return distance\n",
    "\n",
    "def gower(k1, k2, k3, k4):\n",
    "    g1= np.sum(k1)\n",
    "    g2 = np.sum(k2)\n",
    "    g3 = np.sum(k3)\n",
    "    g4 = np.sum(k4)\n",
    "    G = g1+g2+g3+g4\n",
    "    return [g1, g2, g3, g4]\n",
    "#     return g1*1./G, g2*1./G, g3*1./G, g4*1./G\n",
    "\n",
    "\n",
    "def quantile_normalise_phenotype(phenotype):\n",
    "    # take ranks and scale to uniform\n",
    "    phenotype_order = pd.Series(phenotype).rank().astype(float)\n",
    "    phenotype_order = phenotype_order.values\n",
    "    phenotype_order /= (phenotype_order.max()+1.)\n",
    "\n",
    "    # transform uniform to gaussian using probit\n",
    "    mean = 0\n",
    "    sigma = 1\n",
    "    phenotype_norm = mean + 2.**0.5 * sigma * scipy.special.erfinv(2.*phenotype_order-1.)\n",
    "    phenotype_norm = np.reshape(phenotype_norm, [len(phenotype_norm), 1])\n",
    "\n",
    "    return phenotype_norm\n",
    "    "
   ]
  },
  {
   "cell_type": "code",
   "execution_count": 48,
   "metadata": {},
   "outputs": [],
   "source": [
    "# DATA LOADER\n",
    "import pandas as pd\n",
    "\n",
    "##### data\n",
    "\n",
    "# expressions = pd.read_csv('expressions.txt',sep=\" \").loc[0:1]\n",
    "# expressions = expressions[expressions.columns[0:3]]\n",
    "# posit = pd.read_csv('positions.txt', sep=\",\", header=None).loc[0:1]\n",
    "# print(posit.shape)\n",
    "\n",
    "expressions = pd.read_csv('P1_SAy10x1_G1/expressions.txt',sep=\" \")\n",
    "posit = pd.read_csv('P1_SAy10x1_G1/positions.txt', sep=\",\", header=None)\n",
    "\n",
    "pos1 = distance_matrix(posit.values)"
   ]
  },
  {
   "cell_type": "code",
   "execution_count": 47,
   "metadata": {},
   "outputs": [
    {
     "ename": "NameError",
     "evalue": "name 'quantile_normalise_phenotype' is not defined",
     "output_type": "error",
     "traceback": [
      "\u001b[0;31m---------------------------------------------------------------------------\u001b[0m",
      "\u001b[0;31mNameError\u001b[0m                                 Traceback (most recent call last)",
      "\u001b[0;32m<ipython-input-47-09ec58f3d71d>\u001b[0m in \u001b[0;36m<module>\u001b[0;34m\u001b[0m\n\u001b[1;32m      1\u001b[0m \u001b[0my1\u001b[0m \u001b[0;34m=\u001b[0m \u001b[0mexpressions\u001b[0m\u001b[0;34m[\u001b[0m\u001b[0;34m'CD20'\u001b[0m\u001b[0;34m]\u001b[0m\u001b[0;34m.\u001b[0m\u001b[0mvalues\u001b[0m\u001b[0;34m\u001b[0m\u001b[0;34m\u001b[0m\u001b[0m\n\u001b[0;32m----> 2\u001b[0;31m \u001b[0mz1\u001b[0m \u001b[0;34m=\u001b[0m \u001b[0mquantile_normalise_phenotype\u001b[0m\u001b[0;34m(\u001b[0m\u001b[0my1\u001b[0m\u001b[0;34m)\u001b[0m\u001b[0;34m\u001b[0m\u001b[0;34m\u001b[0m\u001b[0m\n\u001b[0m\u001b[1;32m      3\u001b[0m \u001b[0my1\u001b[0m \u001b[0;34m=\u001b[0m \u001b[0mz1\u001b[0m\u001b[0;34m.\u001b[0m\u001b[0mreshape\u001b[0m\u001b[0;34m(\u001b[0m\u001b[0my1\u001b[0m\u001b[0;34m.\u001b[0m\u001b[0mshape\u001b[0m\u001b[0;34m[\u001b[0m\u001b[0;36m0\u001b[0m\u001b[0;34m]\u001b[0m\u001b[0;34m,\u001b[0m\u001b[0;36m1\u001b[0m\u001b[0;34m)\u001b[0m\u001b[0;34m\u001b[0m\u001b[0;34m\u001b[0m\u001b[0m\n\u001b[1;32m      4\u001b[0m \u001b[0;34m\u001b[0m\u001b[0m\n\u001b[1;32m      5\u001b[0m \u001b[0mx1\u001b[0m \u001b[0;34m=\u001b[0m \u001b[0mexpressions\u001b[0m\u001b[0;34m.\u001b[0m\u001b[0mdrop\u001b[0m\u001b[0;34m(\u001b[0m\u001b[0mcolumns\u001b[0m\u001b[0;34m=\u001b[0m\u001b[0;34m[\u001b[0m\u001b[0;34m'CD20'\u001b[0m\u001b[0;34m]\u001b[0m\u001b[0;34m)\u001b[0m\u001b[0;34m.\u001b[0m\u001b[0mvalues\u001b[0m\u001b[0;34m\u001b[0m\u001b[0;34m\u001b[0m\u001b[0m\n",
      "\u001b[0;31mNameError\u001b[0m: name 'quantile_normalise_phenotype' is not defined"
     ]
    }
   ],
   "source": [
    "y1 = expressions['CD20'].values\n",
    "z1 = quantile_normalise_phenotype(y1)\n",
    "y1 = z1.reshape(y1.shape[0],1)\n",
    "\n",
    "x1 = expressions.drop(columns=['CD20']).values\n",
    "\n",
    "\n",
    "all_x = np.zeros((x1.shape[0], x1.shape[1]))\n",
    "all_y = np.zeros((y1.shape[0], y1.shape[1]))\n",
    "\n",
    "\n",
    "prot_names = list(expressions.columns)\n",
    "for i in range(len(prot_names)):\n",
    "    y1 = expressions[prot_names[i]].values\n",
    "    z1 = quantile_normalise_phenotype(y1)\n",
    "    y1 = z1.reshape(y1.shape[0],1)\n",
    "    x1 = expressions.drop(columns=[prot_names[i]]).values\n",
    "#     print(x1.shape, all_y.shape)\n",
    "    all_y = np.append(all_y, y1, axis=0)\n",
    "    all_x = np.append(all_x, x1, axis=0)\n",
    "    \n",
    "all_x = all_x.reshape((27,x1.shape[0], x1.shape[1]))[1:, :, :]\n",
    "all_y = all_y.reshape((27,y1.shape[0], y1.shape[1]))[1:, :, :]\n",
    "\n"
   ]
  },
  {
   "cell_type": "code",
   "execution_count": 6,
   "metadata": {},
   "outputs": [],
   "source": [
    "# in init did this\n",
    "#             self.Kin *= covar_rescaling_factor_efficient(self.Kin)\n",
    "# after this made intrinsic (doing nothing but made scale = 1.)\n",
    "# set the lenth for interaction to 15.\n",
    "# for each cov matrix do \n",
    "#      for cov in used_covar:\n",
    "#             k = covar_rescaling_factor_efficient(cov.K())/n\n",
    "#             # TODO: not so clean, would be good to have setInterParams ?   ### TODO: ehsan: cov.getInterParams() : cov.scale\n",
    "#             new_params = np.log(cov.getInterParams() * k)\n",
    "#             cov.setParams(new_params)\n",
    "\n",
    "def covar_rescaling_factor_efficient(C):\n",
    "    \"\"\"\n",
    "    Returns the rescaling factor for the Gower normalizion on covariance matrix C\n",
    "    the rescaled covariance matrix has sample variance of 1\n",
    "    \"\"\"\n",
    "    n = tf.shape(C)[0]\n",
    "#     n = C.shape[0]\n",
    "    P = tf.eye(n, dtype=tf.float64) - tf.math.divide(tf.ones((n,n), dtype=tf.float64), tf.cast(n, tf.float64))\n",
    "#     P = sp.eye(n) - sp.ones((n,n))/float(n)\n",
    "    CP = C - tf.reduce_mean(C,0)\n",
    "#     CP = C - C.mean(0)[:, sp.newaxis]\n",
    "    trPCP = tf.math.reduce_sum(tf.matmul(P, tf.transpose(CP)))\n",
    "#     trPCP = sp.sum(P * CP)\n",
    "    r = tf.cast(n-1, tf.float۶۴) / trPCP\n",
    "#     r = (n-1) / trPCP\n",
    "    return r\n",
    "\n",
    "\n",
    "\n",
    "def covar_rescaling_factor(C):\n",
    "    \"\"\"\n",
    "    Returns the rescaling factor for the Gower normalizion on covariance matrix C\n",
    "    the rescaled covariance matrix has sample variance of 1\n",
    "    \"\"\"\n",
    "    n = C.shape[0]\n",
    "    P = sp.eye(n) - sp.ones((n,n))/float(n)\n",
    "    trPCP = sp.trace(sp.dot(P,sp.dot(C,P)))\n",
    "    r = (n-1) / trPCP\n",
    "    return r\n",
    "########\n",
    "#         for cov in used_covar:\n",
    "#             k = covar_rescaling_factor_efficient(cov.K())/n\n",
    "#             # TODO: not so clean, would be good to have setInterParams ?   ### TODO: ehsan: cov.getInterParams() : cov.scale\n",
    "#             new_params = np.log(cov.getInterParams() * k)\n",
    "#             cov.setParams(new_params)\n",
    "            \n",
    "# def covar_rescaling_factor(C):\n",
    "#     \"\"\"\n",
    "#     Returns the rescaling factor for the Gower normalizion on covariance matrix C\n",
    "#     the rescaled covariance matrix has sample variance of 1\n",
    "#     \"\"\"\n",
    "#     n = tf.shape(C)[0]\n",
    "# #     n = C.shape[0]\n",
    "#     P = tf.eye(n, dtype=tf.float32) - tf.math.divide(tf.ones((n,n), dtype=tf.float32), tf.cast(n, tf.float32))\n",
    "# #     P = sp.eye(n) - sp.ones((n,n))/float(n)\n",
    "# #     trPCP = sp.trace(sp.dot(P,sp.dot(C,P)))         ##### this line is also vulnerable\n",
    "#     r = tf.cast(n-1, tf.float32) / trPCP\n",
    "# #     r = (n-1) / trPCP\n",
    "# #     return r\n",
    "    \n",
    "# #     n = C.shape[0]\n",
    "    \n",
    "# #     P = sp.eye(n) - sp.ones((n,n))/float(n)\n",
    "# #     CP = C - tf.reduce_mean(C,0)\n",
    "# #     CP = C - C.mean(0)[:, sp.newaxis]\n",
    "#     trPCP = tf.math.reduce_sum(tf.matmul(P, tf.transpose(CP)))\n",
    "# #     trPCP = sp.sum(P * CP)\n",
    "# #     r = (n-1) / trPCP\n",
    "#     return r"
   ]
  },
  {
   "cell_type": "code",
   "execution_count": 7,
   "metadata": {
    "scrolled": true
   },
   "outputs": [],
   "source": [
    "ix = tf.placeholder(shape=[None, None], dtype=tf.float64, name=\"x\")\n",
    "y = tf.placeholder(shape=[None, 1], dtype=tf.float64, name=\"y\")\n",
    "possition = tf.placeholder(shape=[None,None], dtype=tf.float64, name=\"position\")\n",
    "\n",
    "lr = tf.placeholder(shape=[], dtype=tf.float64, name='lr')\n",
    "\n",
    "cov_norm1 = tf.placeholder(shape=[], dtype=tf.float64, name=\"cn1\")\n",
    "cov_norm2 = tf.placeholder(shape=[], dtype=tf.float64, name=\"cn2\")\n",
    "cov_norm3 = tf.placeholder(shape=[], dtype=tf.float64, name=\"cn3\")\n",
    "cov_norm4 = tf.placeholder(shape=[], dtype=tf.float64, name=\"cn4\")\n",
    "\n",
    "sig1 = tf.Variable(1, dtype=tf.float64, name=\"sig1\")\n",
    "sig2 = tf.Variable(1, dtype=tf.float64, name=\"sig2\")\n",
    "sig3 = tf.Variable(1, dtype=tf.float64, name=\"sig3\")\n",
    "sig4 = tf.Variable(1, dtype=tf.float64, name=\"sig4\")\n",
    "\n",
    "# 35.70588798, 10.10000213, 25.47430786,  2.76115028, 49.2300355\n",
    "### cov_matrix1 sigma* matrix      xxxxxxxxxxxxxxxxxxxxxx\n",
    "x = ix - tf.reduce_mean(ix,0)\n",
    "# x = ix\n",
    "xxt_befor_rescale = tf.matmul(x, tf.transpose(x))\n",
    "\n",
    "# n = tf.shape(xxt_befor_rescale)[0] \n",
    "# P = tf.eye(n, dtype=tf.float32) - tf.math.divide(tf.ones((n,n), dtype=tf.float32), tf.cast(n, tf.float32))\n",
    "# CP = xxt_befor_rescale - tf.reduce_mean(xxt_befor_rescale,0)\n",
    "# trPCP = tf.math.reduce_sum(tf.matmul(P, tf.transpose(CP)))\n",
    "# r =  tf.cast(n-1, tf.float32) / trPCP\n",
    "# xxt = covar_rescaling_factor_efficient(xxt_befor_rescale) * xxt_befor_rescale\n",
    "xxt = xxt_befor_rescale\n",
    "# xxt = r * xxt_befor_rescale\n",
    "\n",
    "sig1_pow2 = tf.pow(sig1, 2)\n",
    "\n",
    "cov_matrix1 = sig1_pow2 * xxt\n",
    "\n",
    "\n",
    "### cov_matrix2 sigma* matrix\n",
    "def env_pos(x):\n",
    "    return tf.exp(((-1)*(0.5)*x)/(tf.pow(l,2)))\n",
    "\n",
    "\n",
    "l = tf.Variable(49.2300355, dtype=tf.float64, name=\"l\")\n",
    "\n",
    "zzt = tf.map_fn(env_pos, possition)\n",
    "\n",
    "sig2_pow2 = tf.pow(sig2, 2)\n",
    "\n",
    "cov_matrix2 = sig2_pow2 * zzt \n",
    "\n",
    "\n",
    "### cov_matrix3 sigma* matrix\n",
    "u = tf.ones_like(xxt)\n",
    "v = tf.eye(tf.shape(xxt)[0])\n",
    "mask = tf.cast(u, dtype=tf.float64) - tf.cast(v, dtype=tf.float64)\n",
    "weight = tf.math.multiply(mask, zzt)\n",
    "zx = tf.matmul(weight, x)\n",
    "zxxzt = tf.matmul(zx, tf.transpose(zx))\n",
    "sig3_pow2 = tf.pow(sig3, 2)\n",
    "\n",
    "cov_matrix3 = sig3_pow2 * zxxzt \n",
    "\n",
    "\n",
    "### cov_matrix4 sigma* matrix\n",
    "noise__ = tf.eye(tf.shape(xxt)[0])\n",
    "noise = tf.cast(noise__, dtype=tf.float64)\n",
    "sig4_pow2 = tf.pow(sig4, 2)\n",
    "\n",
    "cov_matrix4 = sig4_pow2 * noise\n",
    "\n",
    "\n",
    "###### main covariance matrix\n",
    "cov_matrix = cov_matrix1 / cov_norm1 + cov_matrix2 / cov_norm2 + cov_matrix3 / cov_norm3 + cov_matrix4 / cov_norm4\n",
    "# cov_matrix =  cov_matrix1 / cov_norm1\n",
    "\n",
    "# cov_matrix = cov_matrix1 + cov_matrix2 + cov_matrix3 + cov_matrix4\n",
    "### cov_matrix = cov_matrix / tf.reduce_sum(cov_matrix)\n",
    "# cov_matrix = tf.math.divide(cov_matrix, tf.reduce_sum(cov_matrix))\n",
    "\n",
    "\n",
    "##### log likelihood term1\n",
    "# cov_det = tf.linalg.det(cov_matrix)\n",
    "cov_inv = tf.linalg.inv(cov_matrix)\n",
    "loss_term1 = tf.matmul(tf.matmul(tf.transpose(y), cov_inv), y)\n",
    "\n",
    "##### log likelihood term2\n",
    "# loss_term2 = tf.log(cov_det)\n",
    "loss_term2 = tf.linalg.logdet(cov_matrix)\n",
    "\n",
    "#### loss function :log likelihood without constant vairable n/2log(pi)\n",
    "loglikelihood = tf.add(loss_term1, loss_term2)\n",
    "loss = 0.5*loglikelihood\n",
    "\n",
    "### optimizer\n",
    "optimizer = tf.train.AdamOptimizer(learning_rate= lr).minimize(loss)"
   ]
  },
  {
   "cell_type": "code",
   "execution_count": 8,
   "metadata": {},
   "outputs": [
    {
     "data": {
      "text/plain": [
       "(26, 690, 25)"
      ]
     },
     "execution_count": 8,
     "metadata": {},
     "output_type": "execute_result"
    }
   ],
   "source": [
    "all_x.shape"
   ]
  },
  {
   "cell_type": "code",
   "execution_count": 9,
   "metadata": {},
   "outputs": [
    {
     "data": {
      "text/plain": [
       "7.460698725481052e-14"
      ]
     },
     "execution_count": 9,
     "metadata": {},
     "output_type": "execute_result"
    }
   ],
   "source": [
    "nx = all_x[0]\n",
    "mnx = nx - np.mean(nx, axis=0)\n",
    "nxxt = np.matmul(mnx, mnx.T)\n",
    "np.sum(np.abs(nxxt))\n",
    "np.sum(nxxt)\n"
   ]
  },
  {
   "cell_type": "code",
   "execution_count": 10,
   "metadata": {},
   "outputs": [
    {
     "name": "stdout",
     "output_type": "stream",
     "text": [
      "2.4513724383723456e-13\n",
      "7.460698725481052e-14\n",
      "3.552713678800501e-15\n"
     ]
    }
   ],
   "source": [
    "sess = tf.Session()\n",
    "\n",
    "sess.run(tf.global_variables_initializer())\n",
    "j=0\n",
    "out, = sess.run([xxt], feed_dict= {ix:all_x[j], y:all_y[j], possition: pos1})\n",
    "print(np.sum(out))\n",
    "print(np.sum(nxxt))\n",
    "print(np.max(np.abs(out - nxxt)))"
   ]
  },
  {
   "cell_type": "code",
   "execution_count": 11,
   "metadata": {
    "scrolled": true
   },
   "outputs": [
    {
     "name": "stdout",
     "output_type": "stream",
     "text": [
      "15164.676871451347\n",
      "16563.34602409597\n",
      "89360.5821427232\n",
      "333.41014259757355\n",
      "sig1 is:  0.12005617977743997 sig2 is:  0.4679338447077988 sig3 is:  0.461267398535826 sig4 is:  0.4832031052138737 The L is:  41.86727328969874 Loss is:  [172.85062764]\n",
      "time of calculation for *** CD20 *** is:  31.87753915786743\n",
      "--------------------------------------\n",
      "9562.29152140772\n",
      "12605.237527735384\n",
      "31175.151432653754\n",
      "432.83434053270054\n",
      "sig1 is:  0.07566144276983001 sig2 is:  0.2914782319642207 sig3 is:  0.152560062285982 sig4 is:  0.6272961456995615 The L is:  46.68648571789386 Loss is:  [241.61627371]\n",
      "time of calculation for *** CD3 *** is:  31.73559832572937\n",
      "--------------------------------------\n",
      "15074.281843260524\n",
      "16609.04105358014\n",
      "161454.3518101638\n",
      "298.831144676142\n",
      "sig1 is:  0.11789044812689076 sig2 is:  0.44368051082390425 sig3 is:  0.8232749137752524 sig4 is:  0.4330886154726689 The L is:  43.14827027271226 Loss is:  [152.58894048]\n",
      "time of calculation for *** CD44 *** is:  29.685310125350952\n",
      "--------------------------------------\n",
      "11028.142892708385\n",
      "12368.321790922038\n",
      "29593.779443604304\n",
      "409.11544054530293\n",
      "sig1 is:  0.0865304967612263 sig2 is:  0.271069668436933 sig3 is:  0.14303000606414365 sig4 is:  0.5929209283265263 The L is:  48.063709433983966 Loss is:  [222.92909266]\n",
      "time of calculation for *** CD68 *** is:  30.833311319351196\n",
      "--------------------------------------\n",
      "39980.711740502295\n",
      "1046.461192808445\n",
      "2729.7750565268625\n",
      "450.6050807685188\n",
      "sig1 is:  0.3103946476813994 sig2 is:  0.023813771573272025 sig3 is:  0.013269197537163201 sig4 is:  0.6530508416935047 The L is:  47.1030049918457 Loss is:  [235.27981325]\n",
      "time of calculation for *** CarbonicAnhydraseIX *** is:  29.100953102111816\n",
      "--------------------------------------\n",
      "35080.57149881267\n",
      "158.63819209372178\n",
      "1102.129782215672\n",
      "576.3704902907273\n",
      "sig1 is:  0.27263524395757455 sig2 is:  0.003857837217125692 sig3 is:  0.005454178789504638 sig4 is:  0.8353195511459777 The L is:  45.42932161329077 Loss is:  [309.30252077]\n",
      "time of calculation for *** CleavedCaspase3 *** is:  29.92722487449646\n",
      "--------------------------------------\n",
      "30038.755235834666\n",
      "5710.480120578031\n",
      "4440.655310406455\n",
      "495.1551584589225\n",
      "sig1 is:  0.23461860887870722 sig2 is:  0.14267657571314638 sig3 is:  0.022199112581474358 sig4 is:  0.7176161716795939 The L is:  44.75672777371818 Loss is:  [279.3832783]\n",
      "time of calculation for *** Creb *** is:  33.683192014694214\n",
      "--------------------------------------\n",
      "27555.072922203406\n",
      "10935.12975328741\n",
      "7258.940645162381\n",
      "332.470374605826\n",
      "sig1 is:  0.21656710163707063 sig2 is:  0.34537739162496156 sig3 is:  0.03842960037072616 sig4 is:  0.48184112261714124 The L is:  39.421834217407564 Loss is:  [178.71485986]\n",
      "time of calculation for *** Cytokeratin7 *** is:  35.55074691772461\n",
      "--------------------------------------\n",
      "36649.951444624996\n",
      "3326.99662769229\n",
      "27855.661933446598\n",
      "193.2295891443155\n",
      "sig1 is:  0.2888347910763892 sig2 is:  0.0889140008553918 sig3 is:  0.13764978362400923 sig4 is:  0.2800428828178482 The L is:  43.15217117325754 Loss is:  [-15.02099692]\n",
      "time of calculation for *** Cytokeratin8-18 *** is:  33.155314207077026\n",
      "--------------------------------------\n",
      "72715.93186066787\n",
      "1899.629942715\n",
      "68.10077944671217\n",
      "255.20838616667328\n",
      "sig1 is:  0.5674766901230635 sig2 is:  0.04421712944514281 sig3 is:  0.00033054390016877495 sig4 is:  0.36986722632851254 The L is:  46.516872548918904 Loss is:  [50.97763182]\n",
      "time of calculation for *** E-cadherin *** is:  34.61303234100342\n",
      "--------------------------------------\n",
      "38677.1254966926\n",
      "1746.018407429416\n",
      "9111.946058573129\n",
      "348.06895682697865\n",
      "sig1 is:  0.3050701414890388 sig2 is:  0.03430342459013926 sig3 is:  0.04301720140782163 sig4 is:  0.5044477635173633 The L is:  50.996288082126526 Loss is:  [155.18125531]\n",
      "time of calculation for *** ERa *** is:  33.575459480285645\n",
      "--------------------------------------\n",
      "14072.96382424718\n",
      "4703.489363269337\n",
      "49064.65013393661\n",
      "481.29544944824966\n",
      "sig1 is:  0.11048785780800288 sig2 is:  0.12970985175302047 sig3 is:  0.2518937028991903 sig4 is:  0.697529636881516 The L is:  42.44345452016009 Loss is:  [265.92298161]\n",
      "time of calculation for *** EpCAM *** is:  44.252623081207275\n",
      "--------------------------------------\n",
      "6803.728804650223\n",
      "6010.3856168687\n",
      "31393.4343476002\n",
      "326.2210575105683\n",
      "sig1 is:  0.05344538800013853 sig2 is:  0.16882751829501053 sig3 is:  0.16342060091042904 sig4 is:  0.47278414131966345 The L is:  42.011750316649675 Loss is:  [143.23333053]\n",
      "time of calculation for *** Erk12 *** is:  36.74014735221863\n",
      "--------------------------------------\n",
      "23328.76173059322\n",
      "3591.2542921584736\n",
      "364.3245680256806\n",
      "207.06543253748544\n",
      "sig1 is:  0.19062687178490223 sig2 is:  0.0995312687202455 sig3 is:  0.0018208005205651032 sig4 is:  0.3000948297644696 The L is:  42.320194116221145 Loss is:  [-5.04072171]\n",
      "time of calculation for *** Fibronectin *** is:  36.41024899482727\n",
      "--------------------------------------\n",
      "55452.52572851825\n",
      "2191.1501655611874\n",
      "1771.5196006317462\n",
      "367.7966518890727\n",
      "sig1 is:  0.43860345783436094 sig2 is:  0.055070504696614855 sig3 is:  0.008898303436270202 sig4 is:  0.5330386259261954 The L is:  44.6183752065406 Loss is:  [177.01574913]\n",
      "time of calculation for *** GATA3 *** is:  30.672975778579712\n",
      "--------------------------------------\n",
      "53514.95745653967\n",
      "74.64549308458095\n",
      "1920.870191232688\n",
      "316.5526018144376\n",
      "sig1 is:  0.4219957389378942 sig2 is:  0.0016906196716442734 sig3 is:  0.009380883297823168 sig4 is:  0.45877188668759267 The L is:  47.20977896653445 Loss is:  [113.64165763]\n",
      "time of calculation for *** Her2 *** is:  31.161819219589233\n",
      "--------------------------------------\n",
      "54348.061832289255\n",
      "11748.682994940784\n",
      "134.9700282420359\n",
      "177.93822858620965\n",
      "sig1 is:  0.4287786707081222 sig2 is:  0.3332791682094466 sig3 is:  0.0006968368571998616 sig4 is:  0.25788149070464966 The L is:  41.80422024427781 Loss is:  [-10.82067216]\n",
      "time of calculation for *** HistoneH3 *** is:  31.15671181678772\n",
      "--------------------------------------\n",
      "34581.53936776483\n",
      "6.785763107916143\n",
      "2870.2021946281716\n",
      "473.3449945546457\n",
      "sig1 is:  0.26919545920266486 sig2 is:  0.00013337047054681482 sig3 is:  0.013467726693740512 sig4 is:  0.686007238484991 The L is:  51.01036552574711 Loss is:  [236.41799274]\n",
      "time of calculation for *** Ki-67 *** is:  32.241557359695435\n",
      "--------------------------------------\n",
      "53971.18688736529\n",
      "342.1792208989929\n",
      "5354.694310852188\n",
      "427.97296119456774\n",
      "sig1 is:  0.42567385470895525 sig2 is:  0.00675305234276813 sig3 is:  0.02521801073860036 sig4 is:  0.6202506683979284 The L is:  50.87920608414473 Loss is:  [215.02072068]\n",
      "time of calculation for *** PRAB *** is:  31.853952884674072\n",
      "--------------------------------------\n",
      "23618.624579285788\n",
      "1314.3776331027298\n",
      "44833.19303354382\n",
      "451.8508482337339\n",
      "sig1 is:  0.18165817656090413 sig2 is:  0.03714529949682991 sig3 is:  0.23780359841015128 sig4 is:  0.6548563017880148 The L is:  41.855593298850486 Loss is:  [247.77613294]\n",
      "time of calculation for *** S6 *** is:  31.726633310317993\n",
      "--------------------------------------\n",
      "29086.04144636922\n",
      "14270.445360777283\n",
      "12674.18483795501\n",
      "251.99597865197975\n",
      "sig1 is:  0.22487238927730843 sig2 is:  0.41197375669164904 sig3 is:  0.061702201088522306 sig4 is:  0.3652115632637367 The L is:  41.40875092454654 Loss is:  [95.29441187]\n",
      "time of calculation for *** SMA *** is:  36.945292711257935\n",
      "--------------------------------------\n",
      "34418.601340199064\n",
      "4655.707036459348\n",
      "6975.007389503301\n",
      "454.7013774191687\n",
      "sig1 is:  0.27175943414694875 sig2 is:  0.1282691607190553 sig3 is:  0.03579349674097154 sig4 is:  0.6589875035060409 The L is:  42.48508932707242 Loss is:  [256.50145941]\n",
      "time of calculation for *** Slug *** is:  34.29526090621948\n",
      "--------------------------------------\n",
      "41981.28332725525\n",
      "1.3740701092038663\n",
      "4924.86993157309\n",
      "449.19541369930306\n",
      "sig1 is:  0.33092107688041883 sig2 is:  2.821704518036846e-05 sig3 is:  0.023496947502214684 sig4 is:  0.65100784594102 The L is:  49.790178863825105 Loss is:  [223.75457404]\n",
      "time of calculation for *** Twist *** is:  33.19103765487671\n",
      "--------------------------------------\n",
      "28325.38757703243\n",
      "4234.492961344613\n",
      "0.2800808692926896\n",
      "187.45623979034676\n",
      "sig1 is:  0.24025489097440003 sig2 is:  0.11577013100821952 sig3 is:  1.3650361022957163e-06 sig4 is:  0.2716757098410829 The L is:  42.645645530696434 Loss is:  [-30.36540885]\n",
      "time of calculation for *** Vimentin *** is:  33.78382086753845\n",
      "--------------------------------------\n"
     ]
    },
    {
     "name": "stdout",
     "output_type": "stream",
     "text": [
      "67227.45686065273\n",
      "218.4266197898202\n",
      "5018.092281738012\n",
      "247.63359704909436\n",
      "sig1 is:  0.5278161062959583 sig2 is:  0.005789404917192448 sig3 is:  0.025406757355854785 sig4 is:  0.35888927108564345 The L is:  43.35612723139345 Loss is:  [33.60515487]\n",
      "time of calculation for *** b-catenin *** is:  36.62488293647766\n",
      "--------------------------------------\n",
      "34127.84773398773\n",
      "2742.835777335022\n",
      "10199.926087607173\n",
      "363.6966667965112\n",
      "sig1 is:  0.26975676546675365 sig2 is:  0.05647198438690693 sig3 is:  0.04863853430184886 sig4 is:  0.527096618545663 The L is:  49.72109117461445 Loss is:  [160.63005222]\n",
      "time of calculation for *** c-Myc *** is:  33.73793363571167\n",
      "--------------------------------------\n"
     ]
    }
   ],
   "source": [
    "# TRAINING\n",
    "\n",
    "# posit\n",
    "import time\n",
    "epochs = 100\n",
    "Ls = []\n",
    "prot_loss = []\n",
    "times = []\n",
    "epochs_list = []\n",
    "signatures = []\n",
    "gowers = []\n",
    "threshold = 0.0001\n",
    "learning_rate=0.1\n",
    "\n",
    "# loss_0 = all_y[0].shape[0]\n",
    "# loss_0 *= 0.5\n",
    "# loss_0 *= np.log(2*np.pi)\n",
    "loss_0 = 0\n",
    "\n",
    "with tf.Session() as sess:\n",
    "    for j in range(all_x.shape[0]):\n",
    "#     for j in range(0, 1):\n",
    "        \n",
    "        sess.run(tf.global_variables_initializer())\n",
    "#         norm1, norm2, norm3, norm4 = sess.run([tf.reduce_sum(cov_matrix1 / sig1_pow2),\n",
    "#                                                tf.reduce_sum(cov_matrix2 / sig2_pow2),\n",
    "#                                                tf.reduce_sum(cov_matrix3 / sig3_pow2),\n",
    "#                                                tf.reduce_sum(cov_matrix4 / sig4_pow2)], \n",
    "#                                              feed_dict= {ix:all_x[j], y:all_y[j], possition: pos1})\n",
    "        \n",
    "#         norm1, norm2, norm3, norm4 = sess.run([covar_rescaling_factor_efficient(cov_matrix1 / sig1_pow2),\n",
    "#                                                covar_rescaling_factor_efficient(cov_matrix2 / sig2_pow2),\n",
    "#                                                covar_rescaling_factor_efficient(cov_matrix3 / sig3_pow2),\n",
    "#                                                covar_rescaling_factor_efficient(cov_matrix4 / sig4_pow2)], \n",
    "#                                              feed_dict= {ix:all_x[j], y:all_y[j], possition: pos1})\n",
    "#         print(norm1)\n",
    "#         print(norm2)\n",
    "#         print(norm3)\n",
    "#         print(norm4)\n",
    "        \n",
    "        norm1, norm2, norm3, norm4 = (1., 1., 1., 1.)\n",
    "        \n",
    "        i = 0\n",
    "        s1_opt, s2_opt, s3_opt, s4_opt, l_opt = (0, 0, 0, 0, 0)\n",
    "        cm1_opt, cm2_opt, cm3_opt, cm4_opt = (0, 0, 0, 0)\n",
    "        min_loss_ever = np.float('inf')\n",
    "        \n",
    "        last_loss = -np.inf\n",
    "        new_loss = np.inf\n",
    "        \n",
    "        loss_list = []\n",
    "        t0 = time.time()\n",
    "        a, b, c, d, lt = 0.0, 0.0, 0.0, 0.0, 0.0\n",
    "        while(abs(last_loss-new_loss)>threshold) and (i < epochs):\n",
    "#             cm1, cm2, cm3, cm4 = sess.run(\n",
    "#                 [cov_matrix1, cov_matrix2, cov_matrix3, cov_matrix4], \n",
    "#                 feed_dict= {ix:all_x[j], y:all_y[j], possition: pos1, lr:learning_rate, \n",
    "#                            cov_norm1: norm1, cov_norm2: norm2, cov_norm3: norm3, cov_norm4: norm4})\n",
    "\n",
    "            cm1, cm2, cm3, cm4, a, b, c, d,lt, opt, los = sess.run(\n",
    "                [cov_matrix1, cov_matrix2, cov_matrix3, cov_matrix4, sig1, sig2, sig3, sig4,l,  optimizer, loss], \n",
    "                feed_dict= {ix:all_x[j], y:all_y[j], possition: pos1, lr:learning_rate, \n",
    "                           cov_norm1: norm1, cov_norm2: norm2, cov_norm3: norm3, cov_norm4: norm4})\n",
    "\n",
    "            los = los[0]\n",
    "            loss_list.append(los)\n",
    "            i += 1\n",
    "            last_loss = new_loss\n",
    "            new_loss = los\n",
    "            \n",
    "            if min_loss_ever > los:\n",
    "                min_loss_ever = los\n",
    "                s1_opt, s2_opt, s3_opt, s4_opt, l_opt = (a, b, c, d, lt)\n",
    "                cm1_opt, cm2_opt, cm3_opt, cm4_opt = (cm1, cm2, cm3, cm4)\n",
    "\n",
    "        print(np.sum(np.abs(cm1_opt)))\n",
    "        print(np.sum(np.abs(cm2_opt)))\n",
    "        print(np.sum(np.abs(cm3_opt)))\n",
    "        print(np.sum(np.abs(cm4_opt)))\n",
    "        prot_loss.append(min_loss_ever + loss_0)\n",
    "#         signatures.append([s1_opt, s2_opt, s3_opt, s4_opt])\n",
    "        signatures.append([1./covar_rescaling_factor(cm1_opt), 1./ covar_rescaling_factor(cm2_opt), 1./ covar_rescaling_factor(cm3_opt), 1./ covar_rescaling_factor(cm4_opt)])\n",
    "        Ls.append(l_opt)\n",
    "        \n",
    "#         epochs_list.append(i-1)\n",
    "        t1 = time.time()\n",
    "        times.append(t1-t0)\n",
    "#         gowers.append(covar_rescaling_factor(cm1_opt, cm2_opt, cm3_opt, cm4_opt))\n",
    "        \n",
    "        s1_opt /= math.sqrt(norm1)\n",
    "        s2_opt /= math.sqrt(norm2)\n",
    "        s3_opt /= math.sqrt(norm3)\n",
    "        s4_opt /= math.sqrt(norm4)\n",
    "        \n",
    "        # loading opt conds!\n",
    "        sess.run([tf.assign(sig1, s1_opt), tf.assign(sig2, s2_opt), tf.assign(sig3, s3_opt), tf.assign(sig4, s4_opt), tf.assign(l, l_opt)])\n",
    "\n",
    "#         print(\"sig1 is: \", s1_opt, \"sig2 is: \", s2_opt, \"sig3 is: \", s3_opt, \"sig4 is: \", s4_opt, \"The L is: \", l_opt, \"Loss is: \", min_loss_ever)\n",
    "        print(\"sig1 is: \", signatures[-1][0], \"sig2 is: \", signatures[-1][1], \"sig3 is: \", signatures[-1][2], \"sig4 is: \", signatures[-1][3], \"The L is: \", l_opt, \"Loss is: \", min_loss_ever)\n",
    "        print(\"time of calculation for ***\",prot_names[j],\"*** is: \" ,t1-t0)\n",
    "        print(\"--------------------------------------\")"
   ]
  },
  {
   "cell_type": "code",
   "execution_count": 81,
   "metadata": {},
   "outputs": [
    {
     "data": {
      "text/plain": [
       "[6.67572e-06, 1917.8594, 115.95787, 371.30194]"
      ]
     },
     "execution_count": 81,
     "metadata": {},
     "output_type": "execute_result"
    }
   ],
   "source": [
    "gowers[0]"
   ]
  },
  {
   "cell_type": "code",
   "execution_count": 48,
   "metadata": {},
   "outputs": [],
   "source": [
    "import os\n",
    "\n",
    "path = 'P1_SAy10x1_G1/results/'\n",
    "\n",
    "files = []\n",
    "# r=root, d=directories, f = files\n",
    "for r, d, f in os.walk(path):\n",
    "    for file in f:\n",
    "        if '.txt' in file:\n",
    "            files.append(os.path.join(r, file))\n",
    "            \n",
    "            \n",
    "real_signs = []\n",
    "for i in range(len(prot_names)):\n",
    "    file = pd.read_csv(path + prot_names[i]+ '_0_interactions_effects.txt',sep=\" \")\n",
    "    real_signs.append(file.values[0].tolist())\n",
    "# posit = pd.read_csv('P1_SAy10x1_G1/positions.txt', sep=\",\", header=None)"
   ]
  },
  {
   "cell_type": "code",
   "execution_count": 28,
   "metadata": {},
   "outputs": [
    {
     "ename": "IndexError",
     "evalue": "list index out of range",
     "output_type": "error",
     "traceback": [
      "\u001b[0;31m---------------------------------------------------------------------------\u001b[0m",
      "\u001b[0;31mIndexError\u001b[0m                                Traceback (most recent call last)",
      "\u001b[0;32m<ipython-input-28-1a7d979fd4fa>\u001b[0m in \u001b[0;36m<module>\u001b[0;34m\u001b[0m\n\u001b[1;32m      4\u001b[0m \u001b[0;34m\u001b[0m\u001b[0m\n\u001b[1;32m      5\u001b[0m \u001b[0;32mfor\u001b[0m \u001b[0mi\u001b[0m \u001b[0;32min\u001b[0m \u001b[0mrange\u001b[0m\u001b[0;34m(\u001b[0m\u001b[0mlen\u001b[0m\u001b[0;34m(\u001b[0m\u001b[0mprot_names\u001b[0m\u001b[0;34m)\u001b[0m\u001b[0;34m)\u001b[0m\u001b[0;34m:\u001b[0m\u001b[0;34m\u001b[0m\u001b[0;34m\u001b[0m\u001b[0m\n\u001b[0;32m----> 6\u001b[0;31m     \u001b[0mfile\u001b[0m\u001b[0;34m.\u001b[0m\u001b[0miloc\u001b[0m\u001b[0;34m[\u001b[0m\u001b[0;36m0\u001b[0m\u001b[0;34m]\u001b[0m\u001b[0;34m[\u001b[0m\u001b[0;36m0\u001b[0m\u001b[0;34m]\u001b[0m \u001b[0;34m=\u001b[0m \u001b[0mgowers\u001b[0m\u001b[0;34m[\u001b[0m\u001b[0mi\u001b[0m\u001b[0;34m]\u001b[0m\u001b[0;34m[\u001b[0m\u001b[0;36m0\u001b[0m\u001b[0;34m]\u001b[0m\u001b[0;34m\u001b[0m\u001b[0;34m\u001b[0m\u001b[0m\n\u001b[0m\u001b[1;32m      7\u001b[0m     \u001b[0mfile\u001b[0m\u001b[0;34m.\u001b[0m\u001b[0miloc\u001b[0m\u001b[0;34m[\u001b[0m\u001b[0;36m0\u001b[0m\u001b[0;34m]\u001b[0m\u001b[0;34m[\u001b[0m\u001b[0;36m1\u001b[0m\u001b[0;34m]\u001b[0m \u001b[0;34m=\u001b[0m \u001b[0mgowers\u001b[0m\u001b[0;34m[\u001b[0m\u001b[0mi\u001b[0m\u001b[0;34m]\u001b[0m\u001b[0;34m[\u001b[0m\u001b[0;36m1\u001b[0m\u001b[0;34m]\u001b[0m\u001b[0;34m\u001b[0m\u001b[0;34m\u001b[0m\u001b[0m\n\u001b[1;32m      8\u001b[0m     \u001b[0mfile\u001b[0m\u001b[0;34m.\u001b[0m\u001b[0miloc\u001b[0m\u001b[0;34m[\u001b[0m\u001b[0;36m0\u001b[0m\u001b[0;34m]\u001b[0m\u001b[0;34m[\u001b[0m\u001b[0;36m2\u001b[0m\u001b[0;34m]\u001b[0m \u001b[0;34m=\u001b[0m \u001b[0mgowers\u001b[0m\u001b[0;34m[\u001b[0m\u001b[0mi\u001b[0m\u001b[0;34m]\u001b[0m\u001b[0;34m[\u001b[0m\u001b[0;36m2\u001b[0m\u001b[0;34m]\u001b[0m\u001b[0;34m\u001b[0m\u001b[0;34m\u001b[0m\u001b[0m\n",
      "\u001b[0;31mIndexError\u001b[0m: list index out of range"
     ]
    }
   ],
   "source": [
    "import os\n",
    "\n",
    "path = 'our_results/'\n",
    "\n",
    "for i in range(len(prot_names)):\n",
    "    file.iloc[0][0] = gowers[i][0]\n",
    "    file.iloc[0][1] = gowers[i][1]\n",
    "    file.iloc[0][2] = gowers[i][2]\n",
    "    file.iloc[0][3] = gowers[i][3]\n",
    "    "
   ]
  },
  {
   "cell_type": "code",
   "execution_count": 30,
   "metadata": {},
   "outputs": [
    {
     "ename": "FileNotFoundError",
     "evalue": "[Errno 2] File b'our_results/CD20_0_interactions_Ls.txt' does not exist: b'our_results/CD20_0_interactions_Ls.txt'",
     "output_type": "error",
     "traceback": [
      "\u001b[0;31m---------------------------------------------------------------------------\u001b[0m",
      "\u001b[0;31mFileNotFoundError\u001b[0m                         Traceback (most recent call last)",
      "\u001b[0;32m<ipython-input-30-b45a2e033db1>\u001b[0m in \u001b[0;36m<module>\u001b[0;34m\u001b[0m\n\u001b[0;32m----> 1\u001b[0;31m \u001b[0mfile\u001b[0m \u001b[0;34m=\u001b[0m \u001b[0mpd\u001b[0m\u001b[0;34m.\u001b[0m\u001b[0mread_csv\u001b[0m\u001b[0;34m(\u001b[0m\u001b[0mpath\u001b[0m \u001b[0;34m+\u001b[0m \u001b[0mprot_names\u001b[0m\u001b[0;34m[\u001b[0m\u001b[0;36m0\u001b[0m\u001b[0;34m]\u001b[0m\u001b[0;34m+\u001b[0m \u001b[0;34m'_0_interactions_Ls.txt'\u001b[0m\u001b[0;34m,\u001b[0m\u001b[0msep\u001b[0m\u001b[0;34m=\u001b[0m\u001b[0;34m\" \"\u001b[0m\u001b[0;34m,\u001b[0m \u001b[0mheader\u001b[0m\u001b[0;34m=\u001b[0m\u001b[0;32mNone\u001b[0m\u001b[0;34m)\u001b[0m\u001b[0;34m[\u001b[0m\u001b[0;36m0\u001b[0m\u001b[0;34m]\u001b[0m\u001b[0;34m[\u001b[0m\u001b[0;36m0\u001b[0m\u001b[0;34m]\u001b[0m\u001b[0;34m\u001b[0m\u001b[0;34m\u001b[0m\u001b[0m\n\u001b[0m",
      "\u001b[0;32m~/miniconda3/lib/python3.6/site-packages/pandas/io/parsers.py\u001b[0m in \u001b[0;36mparser_f\u001b[0;34m(filepath_or_buffer, sep, delimiter, header, names, index_col, usecols, squeeze, prefix, mangle_dupe_cols, dtype, engine, converters, true_values, false_values, skipinitialspace, skiprows, skipfooter, nrows, na_values, keep_default_na, na_filter, verbose, skip_blank_lines, parse_dates, infer_datetime_format, keep_date_col, date_parser, dayfirst, iterator, chunksize, compression, thousands, decimal, lineterminator, quotechar, quoting, doublequote, escapechar, comment, encoding, dialect, tupleize_cols, error_bad_lines, warn_bad_lines, delim_whitespace, low_memory, memory_map, float_precision)\u001b[0m\n\u001b[1;32m    700\u001b[0m                     skip_blank_lines=skip_blank_lines)\n\u001b[1;32m    701\u001b[0m \u001b[0;34m\u001b[0m\u001b[0m\n\u001b[0;32m--> 702\u001b[0;31m         \u001b[0;32mreturn\u001b[0m \u001b[0m_read\u001b[0m\u001b[0;34m(\u001b[0m\u001b[0mfilepath_or_buffer\u001b[0m\u001b[0;34m,\u001b[0m \u001b[0mkwds\u001b[0m\u001b[0;34m)\u001b[0m\u001b[0;34m\u001b[0m\u001b[0;34m\u001b[0m\u001b[0m\n\u001b[0m\u001b[1;32m    703\u001b[0m \u001b[0;34m\u001b[0m\u001b[0m\n\u001b[1;32m    704\u001b[0m     \u001b[0mparser_f\u001b[0m\u001b[0;34m.\u001b[0m\u001b[0m__name__\u001b[0m \u001b[0;34m=\u001b[0m \u001b[0mname\u001b[0m\u001b[0;34m\u001b[0m\u001b[0;34m\u001b[0m\u001b[0m\n",
      "\u001b[0;32m~/miniconda3/lib/python3.6/site-packages/pandas/io/parsers.py\u001b[0m in \u001b[0;36m_read\u001b[0;34m(filepath_or_buffer, kwds)\u001b[0m\n\u001b[1;32m    427\u001b[0m \u001b[0;34m\u001b[0m\u001b[0m\n\u001b[1;32m    428\u001b[0m     \u001b[0;31m# Create the parser.\u001b[0m\u001b[0;34m\u001b[0m\u001b[0;34m\u001b[0m\u001b[0;34m\u001b[0m\u001b[0m\n\u001b[0;32m--> 429\u001b[0;31m     \u001b[0mparser\u001b[0m \u001b[0;34m=\u001b[0m \u001b[0mTextFileReader\u001b[0m\u001b[0;34m(\u001b[0m\u001b[0mfilepath_or_buffer\u001b[0m\u001b[0;34m,\u001b[0m \u001b[0;34m**\u001b[0m\u001b[0mkwds\u001b[0m\u001b[0;34m)\u001b[0m\u001b[0;34m\u001b[0m\u001b[0;34m\u001b[0m\u001b[0m\n\u001b[0m\u001b[1;32m    430\u001b[0m \u001b[0;34m\u001b[0m\u001b[0m\n\u001b[1;32m    431\u001b[0m     \u001b[0;32mif\u001b[0m \u001b[0mchunksize\u001b[0m \u001b[0;32mor\u001b[0m \u001b[0miterator\u001b[0m\u001b[0;34m:\u001b[0m\u001b[0;34m\u001b[0m\u001b[0;34m\u001b[0m\u001b[0m\n",
      "\u001b[0;32m~/miniconda3/lib/python3.6/site-packages/pandas/io/parsers.py\u001b[0m in \u001b[0;36m__init__\u001b[0;34m(self, f, engine, **kwds)\u001b[0m\n\u001b[1;32m    893\u001b[0m             \u001b[0mself\u001b[0m\u001b[0;34m.\u001b[0m\u001b[0moptions\u001b[0m\u001b[0;34m[\u001b[0m\u001b[0;34m'has_index_names'\u001b[0m\u001b[0;34m]\u001b[0m \u001b[0;34m=\u001b[0m \u001b[0mkwds\u001b[0m\u001b[0;34m[\u001b[0m\u001b[0;34m'has_index_names'\u001b[0m\u001b[0;34m]\u001b[0m\u001b[0;34m\u001b[0m\u001b[0;34m\u001b[0m\u001b[0m\n\u001b[1;32m    894\u001b[0m \u001b[0;34m\u001b[0m\u001b[0m\n\u001b[0;32m--> 895\u001b[0;31m         \u001b[0mself\u001b[0m\u001b[0;34m.\u001b[0m\u001b[0m_make_engine\u001b[0m\u001b[0;34m(\u001b[0m\u001b[0mself\u001b[0m\u001b[0;34m.\u001b[0m\u001b[0mengine\u001b[0m\u001b[0;34m)\u001b[0m\u001b[0;34m\u001b[0m\u001b[0;34m\u001b[0m\u001b[0m\n\u001b[0m\u001b[1;32m    896\u001b[0m \u001b[0;34m\u001b[0m\u001b[0m\n\u001b[1;32m    897\u001b[0m     \u001b[0;32mdef\u001b[0m \u001b[0mclose\u001b[0m\u001b[0;34m(\u001b[0m\u001b[0mself\u001b[0m\u001b[0;34m)\u001b[0m\u001b[0;34m:\u001b[0m\u001b[0;34m\u001b[0m\u001b[0;34m\u001b[0m\u001b[0m\n",
      "\u001b[0;32m~/miniconda3/lib/python3.6/site-packages/pandas/io/parsers.py\u001b[0m in \u001b[0;36m_make_engine\u001b[0;34m(self, engine)\u001b[0m\n\u001b[1;32m   1120\u001b[0m     \u001b[0;32mdef\u001b[0m \u001b[0m_make_engine\u001b[0m\u001b[0;34m(\u001b[0m\u001b[0mself\u001b[0m\u001b[0;34m,\u001b[0m \u001b[0mengine\u001b[0m\u001b[0;34m=\u001b[0m\u001b[0;34m'c'\u001b[0m\u001b[0;34m)\u001b[0m\u001b[0;34m:\u001b[0m\u001b[0;34m\u001b[0m\u001b[0;34m\u001b[0m\u001b[0m\n\u001b[1;32m   1121\u001b[0m         \u001b[0;32mif\u001b[0m \u001b[0mengine\u001b[0m \u001b[0;34m==\u001b[0m \u001b[0;34m'c'\u001b[0m\u001b[0;34m:\u001b[0m\u001b[0;34m\u001b[0m\u001b[0;34m\u001b[0m\u001b[0m\n\u001b[0;32m-> 1122\u001b[0;31m             \u001b[0mself\u001b[0m\u001b[0;34m.\u001b[0m\u001b[0m_engine\u001b[0m \u001b[0;34m=\u001b[0m \u001b[0mCParserWrapper\u001b[0m\u001b[0;34m(\u001b[0m\u001b[0mself\u001b[0m\u001b[0;34m.\u001b[0m\u001b[0mf\u001b[0m\u001b[0;34m,\u001b[0m \u001b[0;34m**\u001b[0m\u001b[0mself\u001b[0m\u001b[0;34m.\u001b[0m\u001b[0moptions\u001b[0m\u001b[0;34m)\u001b[0m\u001b[0;34m\u001b[0m\u001b[0;34m\u001b[0m\u001b[0m\n\u001b[0m\u001b[1;32m   1123\u001b[0m         \u001b[0;32melse\u001b[0m\u001b[0;34m:\u001b[0m\u001b[0;34m\u001b[0m\u001b[0;34m\u001b[0m\u001b[0m\n\u001b[1;32m   1124\u001b[0m             \u001b[0;32mif\u001b[0m \u001b[0mengine\u001b[0m \u001b[0;34m==\u001b[0m \u001b[0;34m'python'\u001b[0m\u001b[0;34m:\u001b[0m\u001b[0;34m\u001b[0m\u001b[0;34m\u001b[0m\u001b[0m\n",
      "\u001b[0;32m~/miniconda3/lib/python3.6/site-packages/pandas/io/parsers.py\u001b[0m in \u001b[0;36m__init__\u001b[0;34m(self, src, **kwds)\u001b[0m\n\u001b[1;32m   1851\u001b[0m         \u001b[0mkwds\u001b[0m\u001b[0;34m[\u001b[0m\u001b[0;34m'usecols'\u001b[0m\u001b[0;34m]\u001b[0m \u001b[0;34m=\u001b[0m \u001b[0mself\u001b[0m\u001b[0;34m.\u001b[0m\u001b[0musecols\u001b[0m\u001b[0;34m\u001b[0m\u001b[0;34m\u001b[0m\u001b[0m\n\u001b[1;32m   1852\u001b[0m \u001b[0;34m\u001b[0m\u001b[0m\n\u001b[0;32m-> 1853\u001b[0;31m         \u001b[0mself\u001b[0m\u001b[0;34m.\u001b[0m\u001b[0m_reader\u001b[0m \u001b[0;34m=\u001b[0m \u001b[0mparsers\u001b[0m\u001b[0;34m.\u001b[0m\u001b[0mTextReader\u001b[0m\u001b[0;34m(\u001b[0m\u001b[0msrc\u001b[0m\u001b[0;34m,\u001b[0m \u001b[0;34m**\u001b[0m\u001b[0mkwds\u001b[0m\u001b[0;34m)\u001b[0m\u001b[0;34m\u001b[0m\u001b[0;34m\u001b[0m\u001b[0m\n\u001b[0m\u001b[1;32m   1854\u001b[0m         \u001b[0mself\u001b[0m\u001b[0;34m.\u001b[0m\u001b[0munnamed_cols\u001b[0m \u001b[0;34m=\u001b[0m \u001b[0mself\u001b[0m\u001b[0;34m.\u001b[0m\u001b[0m_reader\u001b[0m\u001b[0;34m.\u001b[0m\u001b[0munnamed_cols\u001b[0m\u001b[0;34m\u001b[0m\u001b[0;34m\u001b[0m\u001b[0m\n\u001b[1;32m   1855\u001b[0m \u001b[0;34m\u001b[0m\u001b[0m\n",
      "\u001b[0;32mpandas/_libs/parsers.pyx\u001b[0m in \u001b[0;36mpandas._libs.parsers.TextReader.__cinit__\u001b[0;34m()\u001b[0m\n",
      "\u001b[0;32mpandas/_libs/parsers.pyx\u001b[0m in \u001b[0;36mpandas._libs.parsers.TextReader._setup_parser_source\u001b[0;34m()\u001b[0m\n",
      "\u001b[0;31mFileNotFoundError\u001b[0m: [Errno 2] File b'our_results/CD20_0_interactions_Ls.txt' does not exist: b'our_results/CD20_0_interactions_Ls.txt'"
     ]
    }
   ],
   "source": [
    "file = pd.read_csv(path + prot_names[0]+ '_0_interactions_Ls.txt',sep=\" \", header=None)[0][0]\n"
   ]
  },
  {
   "cell_type": "code",
   "execution_count": 76,
   "metadata": {},
   "outputs": [
    {
     "data": {
      "text/plain": [
       "29.175865127593003"
      ]
     },
     "execution_count": 76,
     "metadata": {},
     "output_type": "execute_result"
    }
   ],
   "source": [
    "# file.values[0][0]\n",
    "real_L[-1]"
   ]
  },
  {
   "cell_type": "code",
   "execution_count": 74,
   "metadata": {},
   "outputs": [
    {
     "name": "stdout",
     "output_type": "stream",
     "text": [
      "Loss: 209.6409, (0.29 secs)\n"
     ]
    }
   ],
   "source": [
    "# CHECKING LOSS GIVEN SIGMAS\n",
    "real_L = []\n",
    "real_losses = []\n",
    "# for i in range(len(prot_names)):\n",
    "for i in range(1):\n",
    "    file = pd.read_csv(path + prot_names[0]+ '_0_interactions_Ls.txt',sep=\" \", header=None)[0][0]\n",
    "    real_L.append(file)\n",
    "    s1, s2, s3, s4 = np.sqrt(real_signs[i])\n",
    "    lv = real_L[-1]\n",
    "    sess = tf.Session()\n",
    "    sess.run(tf.global_variables_initializer())\n",
    "    sess.run([tf.assign(sig1, s1), tf.assign(sig2, s2), tf.assign(sig3, s3), tf.assign(sig4, s4), tf.assign(l, lv)])\n",
    "    t1 = time.time()\n",
    "    the_loss = sess.run([loss], feed_dict= {ix:all_x[0], y:all_y[0], possition: pos1, cov_norm1:1, cov_norm2:1, cov_norm3:1, cov_norm4:1})\n",
    "    t2 = time.time()\n",
    "    ### adding normalization term to loss ##########\n",
    "#     loss_0 = all_y[0].shape[0]\n",
    "#     loss_0 *= 0.5\n",
    "#     loss_0 *= np.log(2*np.pi)\n",
    "#     the_loss += loss_0\n",
    "    real_losses.append(the_loss)\n",
    "    print('Loss: %.4f, (%.2f secs)' % (the_loss[0], t2 - t1))"
   ]
  },
  {
   "cell_type": "code",
   "execution_count": 52,
   "metadata": {},
   "outputs": [],
   "source": [
    "import os\n",
    "\n",
    "path = '/home/maximus/Documents/bcb/svca/code/svca/SVCA/examples/IMC_one_example/P1_SAy10x1_G1/results/'\n",
    "\n",
    "files = []\n",
    "# r=root, d=directories, f = files\n",
    "for r, d, f in os.walk(path):\n",
    "    for file in f:\n",
    "        if '.txt' in file:\n",
    "            files.append(os.path.join(r, file))\n",
    "            \n",
    "their_loss = []\n",
    "for i in range(len(prot_names)):\n",
    "    \n",
    "    file = pd.read_csv(path + prot_names[i]+ '_0_interactions_lmls.txt',sep=\" \", header= None)\n",
    "#     print(file.values[0][0])\n",
    "    their_loss.append(file.values[0][0])\n",
    "# posit = pd.read_csv('P1_SAy10x1_G1/positions.txt', sep=\",\", header=None)\n",
    "\n",
    "\n"
   ]
  },
  {
   "cell_type": "code",
   "execution_count": 58,
   "metadata": {},
   "outputs": [],
   "source": [
    "real_losses = np.array(real_losses)\n",
    "real_losses111 = real_losses\n",
    "prot_loss = np.array(prot_loss)\n",
    "prot_loss1111 = prot_loss\n",
    "\n",
    "real_losses = real_losses.reshape((prot_loss.shape))"
   ]
  },
  {
   "cell_type": "code",
   "execution_count": 69,
   "metadata": {},
   "outputs": [
    {
     "data": {
      "text/plain": [
       "345.7012552829311"
      ]
     },
     "execution_count": 69,
     "metadata": {},
     "output_type": "execute_result"
    }
   ],
   "source": [
    "prot_loss[0]*2"
   ]
  },
  {
   "cell_type": "code",
   "execution_count": 61,
   "metadata": {},
   "outputs": [
    {
     "data": {
      "text/plain": [
       "[<matplotlib.lines.Line2D at 0x7fdaddbe61d0>]"
      ]
     },
     "execution_count": 61,
     "metadata": {},
     "output_type": "execute_result"
    },
    {
     "data": {
      "image/png": "[encoded data removed]",
      "text/plain": [
       "<Figure size 432x288 with 1 Axes>"
      ]
     },
     "metadata": {
      "needs_background": "light"
     },
     "output_type": "display_data"
    }
   ],
   "source": [
    "\n",
    "plt.plot(prot_loss.tolist() ,c='orange')\n",
    "plt.plot(their_loss,c='blue')"
   ]
  },
  {
   "cell_type": "code",
   "execution_count": 63,
   "metadata": {},
   "outputs": [],
   "source": [
    "real_sign1 = [real_signs[i][0] for i in range(len(real_signs))]\n",
    "real_sign2 = [real_signs[i][1] for i in range(len(real_signs))]\n",
    "real_sign3 = [real_signs[i][2] for i in range(len(real_signs))]\n",
    "real_sign4 = [real_signs[i][3] for i in range(len(real_signs))]\n",
    "our_sign1 =  [signatures[i][0] for i in range(len(signatures))]\n",
    "our_sign2 =  [signatures[i][1] for i in range(len(signatures))]\n",
    "our_sign3 =  [signatures[i][2] for i in range(len(signatures))]\n",
    "our_sign4 =  [signatures[i][3] for i in range(len(signatures))]"
   ]
  },
  {
   "cell_type": "code",
   "execution_count": 44,
   "metadata": {},
   "outputs": [],
   "source": [
    "prot_loss = prot_loss.reshape((26))\n",
    "np.savetxt('prot_loss.txt', prot_loss)"
   ]
  },
  {
   "cell_type": "code",
   "execution_count": 46,
   "metadata": {},
   "outputs": [],
   "source": [
    "our_sign3_save = np.array(our_sign3)\n",
    "np.savetxt('our_sign3_save.txt', our_sign3_save)\n"
   ]
  },
  {
   "cell_type": "code",
   "execution_count": null,
   "metadata": {},
   "outputs": [],
   "source": []
  },
  {
   "cell_type": "code",
   "execution_count": 69,
   "metadata": {},
   "outputs": [
    {
     "data": {
      "text/plain": [
       "[<matplotlib.lines.Line2D at 0x7f63200bbe48>]"
      ]
     },
     "execution_count": 69,
     "metadata": {},
     "output_type": "execute_result"
    },
    {
     "data": {
      "image/png": "[encoded data removed]",
      "text/plain": [
       "<Figure size 432x288 with 1 Axes>"
      ]
     },
     "metadata": {
      "needs_background": "light"
     },
     "output_type": "display_data"
    }
   ],
   "source": [
    "plt.plot(our_sign1 ,c='orange')\n",
    "plt.plot(real_sign1,c='blue')"
   ]
  },
  {
   "cell_type": "code",
   "execution_count": 70,
   "metadata": {},
   "outputs": [
    {
     "data": {
      "text/plain": [
       "[<matplotlib.lines.Line2D at 0x7f6310144a58>]"
      ]
     },
     "execution_count": 70,
     "metadata": {},
     "output_type": "execute_result"
    },
    {
     "data": {
      "image/png": "[encoded data removed]",
      "text/plain": [
       "<Figure size 432x288 with 1 Axes>"
      ]
     },
     "metadata": {
      "needs_background": "light"
     },
     "output_type": "display_data"
    }
   ],
   "source": [
    "plt.plot(our_sign2 ,c='orange')\n",
    "plt.plot(real_sign2,c='blue')"
   ]
  },
  {
   "cell_type": "code",
   "execution_count": 81,
   "metadata": {},
   "outputs": [
    {
     "data": {
      "image/png": "[encoded data removed]",
      "text/plain": [
       "<Figure size 432x288 with 1 Axes>"
      ]
     },
     "metadata": {
      "needs_background": "light"
     },
     "output_type": "display_data"
    }
   ],
   "source": [
    "plt.plot(our_sign3 ,c='orange')\n",
    "plt.plot(real_sign3,c='blue')\n",
    "plt.xlabel(\"Proteins\")\n",
    "plt.ylabel(\"interaction_gower\")\n",
    "plt.show()"
   ]
  },
  {
   "cell_type": "code",
   "execution_count": 104,
   "metadata": {},
   "outputs": [],
   "source": [
    "mat1 = cm1_opt.reshape(-1)\n",
    "mat2 = cm2_opt.reshape(-1)\n",
    "mat3 = cm3_opt.reshape(-1)"
   ]
  },
  {
   "cell_type": "code",
   "execution_count": 105,
   "metadata": {},
   "outputs": [
    {
     "data": {
      "text/plain": [
       "array([[1.        , 0.12081023],\n",
       "       [0.12081023, 1.        ]])"
      ]
     },
     "execution_count": 105,
     "metadata": {},
     "output_type": "execute_result"
    }
   ],
   "source": [
    "np.corrcoef(mat1, mat2)"
   ]
  },
  {
   "cell_type": "code",
   "execution_count": 106,
   "metadata": {},
   "outputs": [
    {
     "data": {
      "text/plain": [
       "array([[1.        , 0.15104898],\n",
       "       [0.15104898, 1.        ]])"
      ]
     },
     "execution_count": 106,
     "metadata": {},
     "output_type": "execute_result"
    }
   ],
   "source": [
    "np.corrcoef(mat1, mat3)"
   ]
  },
  {
   "cell_type": "code",
   "execution_count": 107,
   "metadata": {},
   "outputs": [
    {
     "data": {
      "text/plain": [
       "array([[1.        , 0.66264552],\n",
       "       [0.66264552, 1.        ]])"
      ]
     },
     "execution_count": 107,
     "metadata": {},
     "output_type": "execute_result"
    }
   ],
   "source": [
    " np.corrcoef(mat2 ,mat3)"
   ]
  },
  {
   "cell_type": "code",
   "execution_count": 108,
   "metadata": {},
   "outputs": [],
   "source": [
    "corr = np.array((3,3))\n"
   ]
  },
  {
   "cell_type": "code",
   "execution_count": 86,
   "metadata": {},
   "outputs": [
    {
     "data": {
      "text/plain": [
       "(26,)"
      ]
     },
     "execution_count": 86,
     "metadata": {},
     "output_type": "execute_result"
    }
   ],
   "source": [
    "r = np.array(real_sign2).reshape((-1))\n",
    "r.shape"
   ]
  },
  {
   "cell_type": "code",
   "execution_count": 72,
   "metadata": {},
   "outputs": [
    {
     "data": {
      "text/plain": [
       "[<matplotlib.lines.Line2D at 0x7f630235bd68>]"
      ]
     },
     "execution_count": 72,
     "metadata": {},
     "output_type": "execute_result"
    },
    {
     "data": {
      "image/png": "[encoded data removed]",
      "text/plain": [
       "<Figure size 432x288 with 1 Axes>"
      ]
     },
     "metadata": {
      "needs_background": "light"
     },
     "output_type": "display_data"
    }
   ],
   "source": [
    "plt.plot(our_sign4 ,c='orange')\n",
    "plt.plot(real_sign4,c='blue')"
   ]
  },
  {
   "cell_type": "code",
   "execution_count": 66,
   "metadata": {},
   "outputs": [
    {
     "data": {
      "text/plain": [
       "0.07566144276983001"
      ]
     },
     "execution_count": 66,
     "metadata": {},
     "output_type": "execute_result"
    }
   ],
   "source": [
    "our_sign1[1]"
   ]
  },
  {
   "cell_type": "code",
   "execution_count": 67,
   "metadata": {},
   "outputs": [
    {
     "name": "stdout",
     "output_type": "stream",
     "text": [
      "Loss: 303.2734, (0.28 secs)\n"
     ]
    }
   ],
   "source": [
    "# CHECKING LOSS GIVEN SIGMAS\n",
    "# s1, s2, s3, s4, lv = (real_sign1[1]*(-2.60465435), real_sign1[1]/(-7.34379681), real_sign1[1]/(-0.8675316) , real_sign1[1]/(-0.44300931), 59.58584629108587)\n",
    "s1, s2, s3, s4, lv = (our_sign1[0], our_sign2[0], our_sign3[0] , our_sign4[0], Ls[0])\n",
    "\n",
    "sess = tf.Session()\n",
    "sess.run(tf.global_variables_initializer())\n",
    "sess.run([tf.assign(sig1, s1), tf.assign(sig2, s2), tf.assign(sig3, s3), tf.assign(sig4, s4), tf.assign(l, lv)])\n",
    "t1 = time.time()\n",
    "the_loss = sess.run([loss], feed_dict= {ix:all_x[0], y:all_y[0], possition: pos1, cov_norm1:1, cov_norm2:1, cov_norm3:1, cov_norm4:1})\n",
    "t2 = time.time()\n",
    "\n",
    "print('Loss: %.4f, (%.2f secs)' % (the_loss[0], t2 - t1))"
   ]
  },
  {
   "cell_type": "code",
   "execution_count": 1,
   "metadata": {},
   "outputs": [
    {
     "ename": "NameError",
     "evalue": "name 'our_sign4' is not defined",
     "output_type": "error",
     "traceback": [
      "\u001b[0;31m---------------------------------------------------------------------------\u001b[0m",
      "\u001b[0;31mNameError\u001b[0m                                 Traceback (most recent call last)",
      "\u001b[0;32m<ipython-input-1-94f0a3707ee4>\u001b[0m in \u001b[0;36m<module>\u001b[0;34m\u001b[0m\n\u001b[0;32m----> 1\u001b[0;31m \u001b[0mour_sign4\u001b[0m\u001b[0;34m\u001b[0m\u001b[0;34m\u001b[0m\u001b[0m\n\u001b[0m",
      "\u001b[0;31mNameError\u001b[0m: name 'our_sign4' is not defined"
     ]
    }
   ],
   "source": []
  },
  {
   "cell_type": "code",
   "execution_count": 97,
   "metadata": {},
   "outputs": [],
   "source": [
    "############################################### from log_likelihood\n",
    "import numpy as np\n",
    "import math\n",
    "import pandas as pd\n",
    "import scipy\n",
    "from scipy import special\n",
    "\n",
    "\n",
    "def quantile_normalise_phenotype(phenotype):\n",
    "    # take ranks and scale to uniform\n",
    "    phenotype_order = pd.Series(phenotype).rank().astype(float)\n",
    "    phenotype_order = phenotype_order.values\n",
    "    phenotype_order /= (phenotype_order.max()+1.)\n",
    "\n",
    "    # transform uniform to gaussian using probit\n",
    "    mean = 0\n",
    "    sigma = 1\n",
    "    phenotype_norm = mean + 2.**0.5 * sigma * scipy.special.erfinv(2.*phenotype_order-1.)\n",
    "    phenotype_norm = np.reshape(phenotype_norm, [len(phenotype_norm), 1])\n",
    "\n",
    "    return phenotype_norm\n",
    "\n",
    "def making_kinships(pos, y, x, sigma1, sigma2, sigma3, sigma4, l):\n",
    "    t1 = (sigma1**2)*making_intrinsic(x=x)\n",
    "    t2 = making_environment(pos=pos, l=l)\n",
    "    t3 = (sigma3**2)*making_cc_interaction(x=x, env=t2)\n",
    "    t2 *= sigma2**2\n",
    "    t4 = (sigma4**2)*making_noise(pos.shape[0])\n",
    "    \n",
    "    return t1+t2+t3+t4\n",
    "\n",
    "def making_intrinsic(x):    \n",
    "    return np.matmul(x,x.T)\n",
    "\n",
    "\n",
    "def making_environment(pos, l):\n",
    "    pos = pos.as_matrix()\n",
    "    env = distance_matrix(pos)\n",
    "    for i in range(pos.shape[0]):\n",
    "        for j in range(pos.shape[0]):\n",
    "            env[i][j] = np.exp((-0.5)*env[i][j]/(l**2))\n",
    "            \n",
    "    return env\n",
    "            \n",
    "def distance_matrix(position):\n",
    "    distance = np.zeros((position.shape[0], position.shape[0]), dtype = np.float32)\n",
    "    for i in range(position.shape[0]):\n",
    "        for j in range(position.shape[0]):\n",
    "            distance[i][j] = (position[i][0] - position[j][0])**2 + (position[i][1] - position[j][1])**2\n",
    "            \n",
    "    return distance\n",
    "\n",
    "def making_cc_interaction(x, env):\n",
    "    mask = np.ones_like(env) - np.eye(np.shape(env)[0])\n",
    "    weight = np.multiply(mask, env)\n",
    "    zx = np.matmul(weight, x)\n",
    "    zxxz = np.matmul(zx, zx.T)\n",
    "    \n",
    "    return zxxz\n",
    "\n",
    "def making_noise(n):\n",
    "    return np.eye(n)\n",
    "\n",
    "def loglikelihood(y, cov_matrix):\n",
    "    cov_inv = np.linalg.inv(cov_matrix)\n",
    "    loss_term1 = np.matmul(np.matmul(y.T, cov_inv), y)\n",
    "    (sgn, loss_term2) = np.linalg.slogdet(cov_matrix)\n",
    "    d = cov_matrix.shape[0]\n",
    "    loss_term0 = d*math.log(2.*math.pi)\n",
    "    return -0.5 * ( loss_term0+ loss_term1+ loss_term2)\n",
    "\n",
    "\n",
    "\n",
    "######################################### data from log_likelihood ###################################\n",
    "\n",
    "\n",
    "expressions = pd.read_csv('P1_SAy10x1_G1/expressions.txt',sep=\" \")\n",
    "posit = pd.read_csv('P1_SAy10x1_G1/positions.txt', sep=\",\", header=None)\n",
    "\n",
    "# pos1 = distance_matrix(posit.values)\n",
    "\n",
    "\n",
    "y1 = expressions['CD20'].values\n",
    "z1 = quantile_normalise_phenotype(y1)\n",
    "y1 = z1.reshape(y1.shape[0],1)\n",
    "\n",
    "x1 = expressions.drop(columns=['CD20']).values\n",
    "\n",
    "\n",
    "all_x = np.zeros((x1.shape[0], x1.shape[1]))\n",
    "all_y = np.zeros((y1.shape[0], y1.shape[1]))\n",
    "\n",
    "\n",
    "prot_names = list(expressions.columns)\n",
    "for i in range(len(prot_names)):\n",
    "    y1 = expressions[prot_names[i]].values\n",
    "    z1 = quantile_normalise_phenotype(y1)\n",
    "    y1 = z1.reshape(y1.shape[0],1)\n",
    "    x1 = expressions.drop(columns=[prot_names[i]]).values\n",
    "#     print(x1.shape, all_y.shape)\n",
    "    all_y = np.append(all_y, y1, axis=0)\n",
    "    all_x = np.append(all_x, x1, axis=0)\n",
    "    \n",
    "all_x = all_x.reshape((27,x1.shape[0], x1.shape[1]))[1:, :, :]\n",
    "all_y = all_y.reshape((27,y1.shape[0], y1.shape[1]))[1:, :, :]\n",
    "\n",
    "\n",
    "\n"
   ]
  },
  {
   "cell_type": "code",
   "execution_count": 98,
   "metadata": {},
   "outputs": [],
   "source": [
    "def fitness_tensor(signs):\n",
    "    s1, s2, s3, s4 , lv = signs\n",
    "    sess = tf.Session()\n",
    "    sess.run(tf.global_variables_initializer())\n",
    "    sess.run([tf.assign(sig1, s1), tf.assign(sig2, s2), tf.assign(sig3, s3), tf.assign(sig4, s4), tf.assign(l, lv)])\n",
    "    t1 = time.time()\n",
    "    the_loss = sess.run([loss], feed_dict= {ix:all_x[0], y:all_y[0], possition: pos1, cov_norm1:1, cov_norm2:1, cov_norm3:1, cov_norm4:1})\n",
    "    t2 = time.time()\n",
    "    print('Loss: %.4f, (%.2f secs)' % (the_loss[0], t2 - t1))\n",
    "    loss_0 = all_y[0].shape[0]\n",
    "    loss_0 *= 0.5\n",
    "    loss_0 *= np.log(2*np.pi)\n",
    "    return 1./ (the_loss[0]+ loss_0)\n",
    "    \n",
    "    \n",
    "def fitness(signs):\n",
    "    k = making_kinships(pos=posit, y= all_y[0], x= all_x[0], sigma1=signs[0], sigma2=signs[1], sigma3=signs[2], sigma4=signs[3], l=signs[4])\n",
    "    return -1./loglikelihood(all_y[0], k)\n",
    "\n",
    "def normalize_probabilities(fitlist):\n",
    "    h = np.array(fitlist)\n",
    "    s = np.sum(h)\n",
    "    normalized = [fitlist[i]/s for i in range(len(fitlist))]\n",
    "    return normalized\n",
    "\n",
    "def get_2_parent(probabilities):\n",
    "    probabilities = probabilities.flatten()\n",
    "    x = np.random.multinomial(1,probabilities,2)\n",
    "    first = 0\n",
    "    second = 0\n",
    "    for i in range(x[0].shape[0]):\n",
    "        if x[0][i] == 1:\n",
    "            first = i\n",
    "        if x[1][i] == 1:\n",
    "            second = i\n",
    "    return first, second\n",
    "\n",
    "def crossover(first, second, signs, probabilities):\n",
    "    first = signs[first]\n",
    "    second = signs[second]\n",
    "    p = probabilities[first]/(sum(probabilities[first], probabilities[second]))\n",
    "    child1 = []\n",
    "    child2 = []\n",
    "    for i in range(first.shape[0]):\n",
    "        j = np.random.binomial(1,p,1)[0]\n",
    "        if j==1:\n",
    "            child1.append(first[i])\n",
    "            child2.append(second[i])\n",
    "        else:\n",
    "            child1.append(second[i])\n",
    "            child2.append(first[i])\n",
    "    return child1, child2\n",
    "\n",
    "def mutation(sample_sign):\n",
    "    p = 0.5\n",
    "    mu , sigma = 0 , 1\n",
    "    for i in range(sample_sign.shape[0]):\n",
    "        if np.random.binomial(1, p, 1)[0] ==1:\n",
    "            sample_sign[i] = sample_sign[i] + np.random.normal(mu, sigma, 1)[0]\n",
    "    return sample_sign\n",
    "\n"
   ]
  },
  {
   "cell_type": "code",
   "execution_count": 113,
   "metadata": {},
   "outputs": [
    {
     "name": "stdout",
     "output_type": "stream",
     "text": [
      "Loss: 2367.4248, (0.31 secs)\n",
      "Loss: 2491.2954, (0.30 secs)\n",
      "Loss: 1537.2662, (0.31 secs)\n",
      "Loss: 2776.3794, (0.28 secs)\n",
      "Loss: 2767.0054, (0.30 secs)\n",
      "Loss: 2641.1855, (0.35 secs)\n",
      "Loss: 2753.3225, (0.32 secs)\n",
      "Loss: 2703.8091, (0.30 secs)\n",
      "Loss: 2119.6035, (0.27 secs)\n",
      "Loss: 2829.1687, (0.31 secs)\n",
      "Loss: 2521.0950, (0.31 secs)\n",
      "Loss: 1683.9873, (0.52 secs)\n",
      "Loss: 2801.7664, (0.29 secs)\n",
      "Loss: 2576.6926, (0.34 secs)\n",
      "Loss: 1028.5024, (0.30 secs)\n",
      "Loss: 1922.2677, (0.32 secs)\n",
      "Loss: 1915.2365, (0.38 secs)\n",
      "Loss: 2074.1624, (0.32 secs)\n",
      "Loss: 2622.9612, (0.41 secs)\n",
      "Loss: 2698.2942, (0.28 secs)\n",
      "Loss: 2556.6294, (0.65 secs)\n",
      "Loss: 2813.4792, (0.51 secs)\n",
      "Loss: 2146.6108, (0.31 secs)\n",
      "Loss: 2181.7363, (0.30 secs)\n",
      "Loss: 2339.6121, (0.29 secs)\n",
      "Loss: 2768.2751, (0.31 secs)\n",
      "Loss: 2621.1013, (0.29 secs)\n",
      "Loss: 2310.5156, (0.30 secs)\n",
      "Loss: 1991.5375, (0.31 secs)\n",
      "Loss: 2185.7957, (0.28 secs)\n",
      "Loss: 2722.6643, (0.63 secs)\n",
      "Loss: 1760.7762, (0.32 secs)\n",
      "cholesky\n",
      "Loss: 2547.6301, (0.32 secs)\n",
      "Loss: 2755.7571, (0.30 secs)\n",
      "Loss: 2032.8734, (0.32 secs)\n",
      "Loss: 2456.6658, (0.28 secs)\n",
      "Loss: 2670.8052, (0.32 secs)\n",
      "Loss: 2605.5842, (0.32 secs)\n",
      "Loss: 2262.5215, (0.33 secs)\n",
      "Loss: 2558.3501, (0.34 secs)\n",
      "Loss: 2179.8035, (0.29 secs)\n",
      "Loss: 2372.0825, (0.35 secs)\n",
      "Loss: 2706.4272, (0.31 secs)\n",
      "Loss: 2407.5449, (0.30 secs)\n",
      "Loss: 2050.3750, (0.33 secs)\n",
      "Loss: 2481.4841, (0.43 secs)\n",
      "Loss: 2464.4021, (0.27 secs)\n",
      "Loss: 2271.6040, (0.35 secs)\n",
      "Loss: 2398.3660, (0.54 secs)\n",
      "Loss: 2799.6697, (0.52 secs)\n",
      "Loss: 2857.3210, (0.55 secs)\n",
      "Loss: 1943.3213, (0.54 secs)\n",
      "Loss: 2345.4326, (0.70 secs)\n",
      "Loss: 2231.1533, (0.82 secs)\n",
      "Loss: 2410.0425, (0.31 secs)\n",
      "Loss: 2718.3145, (0.31 secs)\n",
      "Loss: 2695.6519, (0.33 secs)\n",
      "Loss: 1940.9934, (0.37 secs)\n",
      "Loss: 2227.7920, (0.35 secs)\n",
      "Loss: 2600.2219, (0.40 secs)\n",
      "Loss: 2551.4548, (0.33 secs)\n",
      "Loss: 2359.5911, (0.43 secs)\n",
      "Loss: 2408.8237, (0.33 secs)\n",
      "Loss: 2805.7043, (0.30 secs)\n",
      "Loss: 2489.8914, (0.32 secs)\n",
      "Loss: 2711.3213, (0.34 secs)\n",
      "Loss: 1633.7601, (0.30 secs)\n",
      "Loss: 2802.8042, (0.59 secs)\n",
      "Loss: 2106.8330, (0.33 secs)\n"
     ]
    },
    {
     "ename": "ValueError",
     "evalue": "object too deep for desired array",
     "output_type": "error",
     "traceback": [
      "\u001b[0;31m---------------------------------------------------------------------------\u001b[0m",
      "\u001b[0;31mValueError\u001b[0m                                Traceback (most recent call last)",
      "\u001b[0;32m<ipython-input-113-122954aa8cc7>\u001b[0m in \u001b[0;36m<module>\u001b[0;34m\u001b[0m\n\u001b[1;32m     32\u001b[0m \u001b[0;31m#     print(pop)\u001b[0m\u001b[0;34m\u001b[0m\u001b[0;34m\u001b[0m\u001b[0;34m\u001b[0m\u001b[0m\n\u001b[1;32m     33\u001b[0m     \u001b[0;32mfor\u001b[0m \u001b[0mi\u001b[0m \u001b[0;32min\u001b[0m \u001b[0mrange\u001b[0m\u001b[0;34m(\u001b[0m\u001b[0mint\u001b[0m\u001b[0;34m(\u001b[0m\u001b[0mpop_size\u001b[0m\u001b[0;34m/\u001b[0m\u001b[0;36m2\u001b[0m\u001b[0;34m)\u001b[0m\u001b[0;34m)\u001b[0m\u001b[0;34m:\u001b[0m\u001b[0;34m\u001b[0m\u001b[0;34m\u001b[0m\u001b[0m\n\u001b[0;32m---> 34\u001b[0;31m         \u001b[0mc1\u001b[0m\u001b[0;34m,\u001b[0m\u001b[0mc2\u001b[0m \u001b[0;34m=\u001b[0m \u001b[0mget_2_parent\u001b[0m\u001b[0;34m(\u001b[0m\u001b[0mprobabilities\u001b[0m\u001b[0;34m)\u001b[0m\u001b[0;34m\u001b[0m\u001b[0;34m\u001b[0m\u001b[0m\n\u001b[0m\u001b[1;32m     35\u001b[0m         \u001b[0mch1\u001b[0m\u001b[0;34m,\u001b[0m \u001b[0mch2\u001b[0m \u001b[0;34m=\u001b[0m \u001b[0mcrossover\u001b[0m\u001b[0;34m(\u001b[0m\u001b[0mch1\u001b[0m\u001b[0;34m,\u001b[0m \u001b[0mch2\u001b[0m\u001b[0;34m,\u001b[0m \u001b[0msigns\u001b[0m\u001b[0;34m=\u001b[0m\u001b[0msigns\u001b[0m\u001b[0;34m,\u001b[0m \u001b[0mprobabilities\u001b[0m\u001b[0;34m=\u001b[0m\u001b[0mprobabilities\u001b[0m\u001b[0;34m)\u001b[0m\u001b[0;34m\u001b[0m\u001b[0;34m\u001b[0m\u001b[0m\n\u001b[1;32m     36\u001b[0m         \u001b[0mchild1\u001b[0m \u001b[0;34m=\u001b[0m \u001b[0mmutation\u001b[0m\u001b[0;34m(\u001b[0m\u001b[0mch1\u001b[0m\u001b[0;34m)\u001b[0m\u001b[0;34m\u001b[0m\u001b[0;34m\u001b[0m\u001b[0m\n",
      "\u001b[0;32m<ipython-input-98-bd1b6da9bd75>\u001b[0m in \u001b[0;36mget_2_parent\u001b[0;34m(probabilities)\u001b[0m\n\u001b[1;32m     25\u001b[0m \u001b[0;34m\u001b[0m\u001b[0m\n\u001b[1;32m     26\u001b[0m \u001b[0;32mdef\u001b[0m \u001b[0mget_2_parent\u001b[0m\u001b[0;34m(\u001b[0m\u001b[0mprobabilities\u001b[0m\u001b[0;34m)\u001b[0m\u001b[0;34m:\u001b[0m\u001b[0;34m\u001b[0m\u001b[0;34m\u001b[0m\u001b[0m\n\u001b[0;32m---> 27\u001b[0;31m     \u001b[0mx\u001b[0m \u001b[0;34m=\u001b[0m \u001b[0mnp\u001b[0m\u001b[0;34m.\u001b[0m\u001b[0mrandom\u001b[0m\u001b[0;34m.\u001b[0m\u001b[0mmultinomial\u001b[0m\u001b[0;34m(\u001b[0m\u001b[0;36m1\u001b[0m\u001b[0;34m,\u001b[0m\u001b[0mprobabilities\u001b[0m\u001b[0;34m,\u001b[0m\u001b[0;36m2\u001b[0m\u001b[0;34m)\u001b[0m\u001b[0;34m\u001b[0m\u001b[0;34m\u001b[0m\u001b[0m\n\u001b[0m\u001b[1;32m     28\u001b[0m     \u001b[0mfirst\u001b[0m \u001b[0;34m=\u001b[0m \u001b[0;36m0\u001b[0m\u001b[0;34m\u001b[0m\u001b[0;34m\u001b[0m\u001b[0m\n\u001b[1;32m     29\u001b[0m     \u001b[0msecond\u001b[0m \u001b[0;34m=\u001b[0m \u001b[0;36m0\u001b[0m\u001b[0;34m\u001b[0m\u001b[0;34m\u001b[0m\u001b[0m\n",
      "\u001b[0;32mmtrand.pyx\u001b[0m in \u001b[0;36mmtrand.RandomState.multinomial\u001b[0;34m()\u001b[0m\n",
      "\u001b[0;31mValueError\u001b[0m: object too deep for desired array"
     ]
    }
   ],
   "source": [
    "import numpy as np\n",
    "import time \n",
    "\n",
    "####\n",
    "pop_size = 70 ## size of population\n",
    "rng = 50 #### 0 to 100 is range of numbers of signatures\n",
    "gen_num = 1 ##### number of generations\n",
    "new_population =[]\n",
    "\n",
    "maximum_likelihood = 0\n",
    "max_signature = (0, 0, 0, 0, 0)\n",
    "\n",
    "\n",
    "\n",
    "pop = [[np.random.uniform(0,rng,5)] for i in range(pop_size)]\n",
    "pop = np.array(pop)\n",
    "pop = pop.flatten()\n",
    "pop = pop.reshape((pop_size,5))\n",
    "fitnesses = []\n",
    "for j in range(gen_num):\n",
    "    for i in range(pop_size):\n",
    "        try:\n",
    "            fitnesses.append(fitness_tensor(pop[i]))\n",
    "        except:\n",
    "            print('cholesky')\n",
    "    g = np.array(fitnesses)\n",
    "    index = np.argmax(g)\n",
    "    if g[index]> maximum_likelihood:\n",
    "        maximum_likelihood = g[index]\n",
    "        max_signature = pop[index]\n",
    "    probabilities = normalize_probabilities(fitnesses)\n",
    "#     print(pop)\n",
    "    for i in range(int(pop_size/2)):\n",
    "        c1,c2 = get_2_parent(probabilities)\n",
    "        ch1, ch2 = crossover(ch1, ch2, signs=signs, probabilities=probabilities)\n",
    "        child1 = mutation(ch1)\n",
    "        child2 = mutation(ch2)\n",
    "        new_population.append(child1)\n",
    "        new_population.append(child2)\n",
    "    pop = new_population\n",
    "\n",
    "# z = [12,4,40,4,40]\n",
    "# i = normalize_probabilities(z)\n",
    "# get_2_parent(i)\n",
    "# p = 0.33\n",
    "# np.random.binomial(1, p, 1)[0]\n",
    "# mu , sigma = 0 , 1\n",
    "# np.random.normal(mu, sigma, 1)[0]"
   ]
  },
  {
   "cell_type": "code",
   "execution_count": 11,
   "metadata": {},
   "outputs": [
    {
     "ename": "InvalidArgumentError",
     "evalue": "Cholesky decomposition was not successful. The input might not be valid.\n\t [[node logdet/Cholesky (defined at <ipython-input-6-f02e6a6d3241>:80)  = Cholesky[T=DT_FLOAT, _device=\"/job:localhost/replica:0/task:0/device:CPU:0\"](add_2)]]\n\nCaused by op 'logdet/Cholesky', defined at:\n  File \"/home/maximus/miniconda3/lib/python3.6/runpy.py\", line 193, in _run_module_as_main\n    \"__main__\", mod_spec)\n  File \"/home/maximus/miniconda3/lib/python3.6/runpy.py\", line 85, in _run_code\n    exec(code, run_globals)\n  File \"/home/maximus/miniconda3/lib/python3.6/site-packages/ipykernel_launcher.py\", line 16, in <module>\n    app.launch_new_instance()\n  File \"/home/maximus/miniconda3/lib/python3.6/site-packages/traitlets/config/application.py\", line 658, in launch_instance\n    app.start()\n  File \"/home/maximus/miniconda3/lib/python3.6/site-packages/ipykernel/kernelapp.py\", line 505, in start\n    self.io_loop.start()\n  File \"/home/maximus/miniconda3/lib/python3.6/site-packages/tornado/platform/asyncio.py\", line 132, in start\n    self.asyncio_loop.run_forever()\n  File \"/home/maximus/miniconda3/lib/python3.6/asyncio/base_events.py\", line 438, in run_forever\n    self._run_once()\n  File \"/home/maximus/miniconda3/lib/python3.6/asyncio/base_events.py\", line 1451, in _run_once\n    handle._run()\n  File \"/home/maximus/miniconda3/lib/python3.6/asyncio/events.py\", line 145, in _run\n    self._callback(*self._args)\n  File \"/home/maximus/miniconda3/lib/python3.6/site-packages/tornado/ioloop.py\", line 758, in _run_callback\n    ret = callback()\n  File \"/home/maximus/miniconda3/lib/python3.6/site-packages/tornado/stack_context.py\", line 300, in null_wrapper\n    return fn(*args, **kwargs)\n  File \"/home/maximus/miniconda3/lib/python3.6/site-packages/tornado/gen.py\", line 1233, in inner\n    self.run()\n  File \"/home/maximus/miniconda3/lib/python3.6/site-packages/tornado/gen.py\", line 1147, in run\n    yielded = self.gen.send(value)\n  File \"/home/maximus/miniconda3/lib/python3.6/site-packages/ipykernel/kernelbase.py\", line 357, in process_one\n    yield gen.maybe_future(dispatch(*args))\n  File \"/home/maximus/miniconda3/lib/python3.6/site-packages/tornado/gen.py\", line 326, in wrapper\n    yielded = next(result)\n  File \"/home/maximus/miniconda3/lib/python3.6/site-packages/ipykernel/kernelbase.py\", line 267, in dispatch_shell\n    yield gen.maybe_future(handler(stream, idents, msg))\n  File \"/home/maximus/miniconda3/lib/python3.6/site-packages/tornado/gen.py\", line 326, in wrapper\n    yielded = next(result)\n  File \"/home/maximus/miniconda3/lib/python3.6/site-packages/ipykernel/kernelbase.py\", line 534, in execute_request\n    user_expressions, allow_stdin,\n  File \"/home/maximus/miniconda3/lib/python3.6/site-packages/tornado/gen.py\", line 326, in wrapper\n    yielded = next(result)\n  File \"/home/maximus/miniconda3/lib/python3.6/site-packages/ipykernel/ipkernel.py\", line 294, in do_execute\n    res = shell.run_cell(code, store_history=store_history, silent=silent)\n  File \"/home/maximus/miniconda3/lib/python3.6/site-packages/ipykernel/zmqshell.py\", line 536, in run_cell\n    return super(ZMQInteractiveShell, self).run_cell(*args, **kwargs)\n  File \"/home/maximus/miniconda3/lib/python3.6/site-packages/IPython/core/interactiveshell.py\", line 2819, in run_cell\n    raw_cell, store_history, silent, shell_futures)\n  File \"/home/maximus/miniconda3/lib/python3.6/site-packages/IPython/core/interactiveshell.py\", line 2845, in _run_cell\n    return runner(coro)\n  File \"/home/maximus/miniconda3/lib/python3.6/site-packages/IPython/core/async_helpers.py\", line 67, in _pseudo_sync_runner\n    coro.send(None)\n  File \"/home/maximus/miniconda3/lib/python3.6/site-packages/IPython/core/interactiveshell.py\", line 3020, in run_cell_async\n    interactivity=interactivity, compiler=compiler, result=result)\n  File \"/home/maximus/miniconda3/lib/python3.6/site-packages/IPython/core/interactiveshell.py\", line 3185, in run_ast_nodes\n    if (yield from self.run_code(code, result)):\n  File \"/home/maximus/miniconda3/lib/python3.6/site-packages/IPython/core/interactiveshell.py\", line 3267, in run_code\n    exec(code_obj, self.user_global_ns, self.user_ns)\n  File \"<ipython-input-6-f02e6a6d3241>\", line 80, in <module>\n    loss_term2 = tf.linalg.logdet(cov_matrix)\n  File \"/home/maximus/miniconda3/lib/python3.6/site-packages/tensorflow/python/ops/linalg/linalg_impl.py\", line 87, in logdet\n    chol = gen_linalg_ops.cholesky(matrix)\n  File \"/home/maximus/miniconda3/lib/python3.6/site-packages/tensorflow/python/ops/gen_linalg_ops.py\", line 709, in cholesky\n    \"Cholesky\", input=input, name=name)\n  File \"/home/maximus/miniconda3/lib/python3.6/site-packages/tensorflow/python/framework/op_def_library.py\", line 787, in _apply_op_helper\n    op_def=op_def)\n  File \"/home/maximus/miniconda3/lib/python3.6/site-packages/tensorflow/python/util/deprecation.py\", line 488, in new_func\n    return func(*args, **kwargs)\n  File \"/home/maximus/miniconda3/lib/python3.6/site-packages/tensorflow/python/framework/ops.py\", line 3274, in create_op\n    op_def=op_def)\n  File \"/home/maximus/miniconda3/lib/python3.6/site-packages/tensorflow/python/framework/ops.py\", line 1770, in __init__\n    self._traceback = tf_stack.extract_stack()\n\nInvalidArgumentError (see above for traceback): Cholesky decomposition was not successful. The input might not be valid.\n\t [[node logdet/Cholesky (defined at <ipython-input-6-f02e6a6d3241>:80)  = Cholesky[T=DT_FLOAT, _device=\"/job:localhost/replica:0/task:0/device:CPU:0\"](add_2)]]\n",
     "output_type": "error",
     "traceback": [
      "\u001b[0;31m---------------------------------------------------------------------------\u001b[0m",
      "\u001b[0;31mInvalidArgumentError\u001b[0m                      Traceback (most recent call last)",
      "\u001b[0;32m~/miniconda3/lib/python3.6/site-packages/tensorflow/python/client/session.py\u001b[0m in \u001b[0;36m_do_call\u001b[0;34m(self, fn, *args)\u001b[0m\n\u001b[1;32m   1333\u001b[0m     \u001b[0;32mtry\u001b[0m\u001b[0;34m:\u001b[0m\u001b[0;34m\u001b[0m\u001b[0;34m\u001b[0m\u001b[0m\n\u001b[0;32m-> 1334\u001b[0;31m       \u001b[0;32mreturn\u001b[0m \u001b[0mfn\u001b[0m\u001b[0;34m(\u001b[0m\u001b[0;34m*\u001b[0m\u001b[0margs\u001b[0m\u001b[0;34m)\u001b[0m\u001b[0;34m\u001b[0m\u001b[0;34m\u001b[0m\u001b[0m\n\u001b[0m\u001b[1;32m   1335\u001b[0m     \u001b[0;32mexcept\u001b[0m \u001b[0merrors\u001b[0m\u001b[0;34m.\u001b[0m\u001b[0mOpError\u001b[0m \u001b[0;32mas\u001b[0m \u001b[0me\u001b[0m\u001b[0;34m:\u001b[0m\u001b[0;34m\u001b[0m\u001b[0;34m\u001b[0m\u001b[0m\n",
      "\u001b[0;32m~/miniconda3/lib/python3.6/site-packages/tensorflow/python/client/session.py\u001b[0m in \u001b[0;36m_run_fn\u001b[0;34m(feed_dict, fetch_list, target_list, options, run_metadata)\u001b[0m\n\u001b[1;32m   1318\u001b[0m       return self._call_tf_sessionrun(\n\u001b[0;32m-> 1319\u001b[0;31m           options, feed_dict, fetch_list, target_list, run_metadata)\n\u001b[0m\u001b[1;32m   1320\u001b[0m \u001b[0;34m\u001b[0m\u001b[0m\n",
      "\u001b[0;32m~/miniconda3/lib/python3.6/site-packages/tensorflow/python/client/session.py\u001b[0m in \u001b[0;36m_call_tf_sessionrun\u001b[0;34m(self, options, feed_dict, fetch_list, target_list, run_metadata)\u001b[0m\n\u001b[1;32m   1406\u001b[0m         \u001b[0mself\u001b[0m\u001b[0;34m.\u001b[0m\u001b[0m_session\u001b[0m\u001b[0;34m,\u001b[0m \u001b[0moptions\u001b[0m\u001b[0;34m,\u001b[0m \u001b[0mfeed_dict\u001b[0m\u001b[0;34m,\u001b[0m \u001b[0mfetch_list\u001b[0m\u001b[0;34m,\u001b[0m \u001b[0mtarget_list\u001b[0m\u001b[0;34m,\u001b[0m\u001b[0;34m\u001b[0m\u001b[0;34m\u001b[0m\u001b[0m\n\u001b[0;32m-> 1407\u001b[0;31m         run_metadata)\n\u001b[0m\u001b[1;32m   1408\u001b[0m \u001b[0;34m\u001b[0m\u001b[0m\n",
      "\u001b[0;31mInvalidArgumentError\u001b[0m: Cholesky decomposition was not successful. The input might not be valid.\n\t [[{{node logdet/Cholesky}} = Cholesky[T=DT_FLOAT, _device=\"/job:localhost/replica:0/task:0/device:CPU:0\"](add_2)]]",
      "\nDuring handling of the above exception, another exception occurred:\n",
      "\u001b[0;31mInvalidArgumentError\u001b[0m                      Traceback (most recent call last)",
      "\u001b[0;32m<ipython-input-11-0e499570c20d>\u001b[0m in \u001b[0;36m<module>\u001b[0;34m\u001b[0m\n\u001b[1;32m     50\u001b[0m                 \u001b[0;34m[\u001b[0m\u001b[0mcov_matrix1\u001b[0m\u001b[0;34m,\u001b[0m \u001b[0mcov_matrix2\u001b[0m\u001b[0;34m,\u001b[0m \u001b[0mcov_matrix3\u001b[0m\u001b[0;34m,\u001b[0m \u001b[0mcov_matrix4\u001b[0m\u001b[0;34m,\u001b[0m \u001b[0msig1\u001b[0m\u001b[0;34m,\u001b[0m \u001b[0msig2\u001b[0m\u001b[0;34m,\u001b[0m \u001b[0msig3\u001b[0m\u001b[0;34m,\u001b[0m \u001b[0msig4\u001b[0m\u001b[0;34m,\u001b[0m\u001b[0ml\u001b[0m\u001b[0;34m,\u001b[0m  \u001b[0moptimizer\u001b[0m\u001b[0;34m,\u001b[0m \u001b[0mloss\u001b[0m\u001b[0;34m]\u001b[0m\u001b[0;34m,\u001b[0m\u001b[0;34m\u001b[0m\u001b[0;34m\u001b[0m\u001b[0m\n\u001b[1;32m     51\u001b[0m                 feed_dict= {ix:all_x[j], y:all_y[j], possition: pos1, lr:learning_rate, \n\u001b[0;32m---> 52\u001b[0;31m                            cov_norm1: norm1, cov_norm2: norm2, cov_norm3: norm3, cov_norm4: norm4})\n\u001b[0m\u001b[1;32m     53\u001b[0m             \u001b[0mlos\u001b[0m \u001b[0;34m=\u001b[0m \u001b[0mlos\u001b[0m\u001b[0;34m[\u001b[0m\u001b[0;36m0\u001b[0m\u001b[0;34m]\u001b[0m\u001b[0;34m\u001b[0m\u001b[0;34m\u001b[0m\u001b[0m\n\u001b[1;32m     54\u001b[0m \u001b[0;31m#             loss_list.append(los)\u001b[0m\u001b[0;34m\u001b[0m\u001b[0;34m\u001b[0m\u001b[0;34m\u001b[0m\u001b[0m\n",
      "\u001b[0;32m~/miniconda3/lib/python3.6/site-packages/tensorflow/python/client/session.py\u001b[0m in \u001b[0;36mrun\u001b[0;34m(self, fetches, feed_dict, options, run_metadata)\u001b[0m\n\u001b[1;32m    927\u001b[0m     \u001b[0;32mtry\u001b[0m\u001b[0;34m:\u001b[0m\u001b[0;34m\u001b[0m\u001b[0;34m\u001b[0m\u001b[0m\n\u001b[1;32m    928\u001b[0m       result = self._run(None, fetches, feed_dict, options_ptr,\n\u001b[0;32m--> 929\u001b[0;31m                          run_metadata_ptr)\n\u001b[0m\u001b[1;32m    930\u001b[0m       \u001b[0;32mif\u001b[0m \u001b[0mrun_metadata\u001b[0m\u001b[0;34m:\u001b[0m\u001b[0;34m\u001b[0m\u001b[0;34m\u001b[0m\u001b[0m\n\u001b[1;32m    931\u001b[0m         \u001b[0mproto_data\u001b[0m \u001b[0;34m=\u001b[0m \u001b[0mtf_session\u001b[0m\u001b[0;34m.\u001b[0m\u001b[0mTF_GetBuffer\u001b[0m\u001b[0;34m(\u001b[0m\u001b[0mrun_metadata_ptr\u001b[0m\u001b[0;34m)\u001b[0m\u001b[0;34m\u001b[0m\u001b[0;34m\u001b[0m\u001b[0m\n",
      "\u001b[0;32m~/miniconda3/lib/python3.6/site-packages/tensorflow/python/client/session.py\u001b[0m in \u001b[0;36m_run\u001b[0;34m(self, handle, fetches, feed_dict, options, run_metadata)\u001b[0m\n\u001b[1;32m   1150\u001b[0m     \u001b[0;32mif\u001b[0m \u001b[0mfinal_fetches\u001b[0m \u001b[0;32mor\u001b[0m \u001b[0mfinal_targets\u001b[0m \u001b[0;32mor\u001b[0m \u001b[0;34m(\u001b[0m\u001b[0mhandle\u001b[0m \u001b[0;32mand\u001b[0m \u001b[0mfeed_dict_tensor\u001b[0m\u001b[0;34m)\u001b[0m\u001b[0;34m:\u001b[0m\u001b[0;34m\u001b[0m\u001b[0;34m\u001b[0m\u001b[0m\n\u001b[1;32m   1151\u001b[0m       results = self._do_run(handle, final_targets, final_fetches,\n\u001b[0;32m-> 1152\u001b[0;31m                              feed_dict_tensor, options, run_metadata)\n\u001b[0m\u001b[1;32m   1153\u001b[0m     \u001b[0;32melse\u001b[0m\u001b[0;34m:\u001b[0m\u001b[0;34m\u001b[0m\u001b[0;34m\u001b[0m\u001b[0m\n\u001b[1;32m   1154\u001b[0m       \u001b[0mresults\u001b[0m \u001b[0;34m=\u001b[0m \u001b[0;34m[\u001b[0m\u001b[0;34m]\u001b[0m\u001b[0;34m\u001b[0m\u001b[0;34m\u001b[0m\u001b[0m\n",
      "\u001b[0;32m~/miniconda3/lib/python3.6/site-packages/tensorflow/python/client/session.py\u001b[0m in \u001b[0;36m_do_run\u001b[0;34m(self, handle, target_list, fetch_list, feed_dict, options, run_metadata)\u001b[0m\n\u001b[1;32m   1326\u001b[0m     \u001b[0;32mif\u001b[0m \u001b[0mhandle\u001b[0m \u001b[0;32mis\u001b[0m \u001b[0;32mNone\u001b[0m\u001b[0;34m:\u001b[0m\u001b[0;34m\u001b[0m\u001b[0;34m\u001b[0m\u001b[0m\n\u001b[1;32m   1327\u001b[0m       return self._do_call(_run_fn, feeds, fetches, targets, options,\n\u001b[0;32m-> 1328\u001b[0;31m                            run_metadata)\n\u001b[0m\u001b[1;32m   1329\u001b[0m     \u001b[0;32melse\u001b[0m\u001b[0;34m:\u001b[0m\u001b[0;34m\u001b[0m\u001b[0;34m\u001b[0m\u001b[0m\n\u001b[1;32m   1330\u001b[0m       \u001b[0;32mreturn\u001b[0m \u001b[0mself\u001b[0m\u001b[0;34m.\u001b[0m\u001b[0m_do_call\u001b[0m\u001b[0;34m(\u001b[0m\u001b[0m_prun_fn\u001b[0m\u001b[0;34m,\u001b[0m \u001b[0mhandle\u001b[0m\u001b[0;34m,\u001b[0m \u001b[0mfeeds\u001b[0m\u001b[0;34m,\u001b[0m \u001b[0mfetches\u001b[0m\u001b[0;34m)\u001b[0m\u001b[0;34m\u001b[0m\u001b[0;34m\u001b[0m\u001b[0m\n",
      "\u001b[0;32m~/miniconda3/lib/python3.6/site-packages/tensorflow/python/client/session.py\u001b[0m in \u001b[0;36m_do_call\u001b[0;34m(self, fn, *args)\u001b[0m\n\u001b[1;32m   1346\u001b[0m           \u001b[0;32mpass\u001b[0m\u001b[0;34m\u001b[0m\u001b[0;34m\u001b[0m\u001b[0m\n\u001b[1;32m   1347\u001b[0m       \u001b[0mmessage\u001b[0m \u001b[0;34m=\u001b[0m \u001b[0merror_interpolation\u001b[0m\u001b[0;34m.\u001b[0m\u001b[0minterpolate\u001b[0m\u001b[0;34m(\u001b[0m\u001b[0mmessage\u001b[0m\u001b[0;34m,\u001b[0m \u001b[0mself\u001b[0m\u001b[0;34m.\u001b[0m\u001b[0m_graph\u001b[0m\u001b[0;34m)\u001b[0m\u001b[0;34m\u001b[0m\u001b[0;34m\u001b[0m\u001b[0m\n\u001b[0;32m-> 1348\u001b[0;31m       \u001b[0;32mraise\u001b[0m \u001b[0mtype\u001b[0m\u001b[0;34m(\u001b[0m\u001b[0me\u001b[0m\u001b[0;34m)\u001b[0m\u001b[0;34m(\u001b[0m\u001b[0mnode_def\u001b[0m\u001b[0;34m,\u001b[0m \u001b[0mop\u001b[0m\u001b[0;34m,\u001b[0m \u001b[0mmessage\u001b[0m\u001b[0;34m)\u001b[0m\u001b[0;34m\u001b[0m\u001b[0;34m\u001b[0m\u001b[0m\n\u001b[0m\u001b[1;32m   1349\u001b[0m \u001b[0;34m\u001b[0m\u001b[0m\n\u001b[1;32m   1350\u001b[0m   \u001b[0;32mdef\u001b[0m \u001b[0m_extend_graph\u001b[0m\u001b[0;34m(\u001b[0m\u001b[0mself\u001b[0m\u001b[0;34m)\u001b[0m\u001b[0;34m:\u001b[0m\u001b[0;34m\u001b[0m\u001b[0;34m\u001b[0m\u001b[0m\n",
      "\u001b[0;31mInvalidArgumentError\u001b[0m: Cholesky decomposition was not successful. The input might not be valid.\n\t [[node logdet/Cholesky (defined at <ipython-input-6-f02e6a6d3241>:80)  = Cholesky[T=DT_FLOAT, _device=\"/job:localhost/replica:0/task:0/device:CPU:0\"](add_2)]]\n\nCaused by op 'logdet/Cholesky', defined at:\n  File \"/home/maximus/miniconda3/lib/python3.6/runpy.py\", line 193, in _run_module_as_main\n    \"__main__\", mod_spec)\n  File \"/home/maximus/miniconda3/lib/python3.6/runpy.py\", line 85, in _run_code\n    exec(code, run_globals)\n  File \"/home/maximus/miniconda3/lib/python3.6/site-packages/ipykernel_launcher.py\", line 16, in <module>\n    app.launch_new_instance()\n  File \"/home/maximus/miniconda3/lib/python3.6/site-packages/traitlets/config/application.py\", line 658, in launch_instance\n    app.start()\n  File \"/home/maximus/miniconda3/lib/python3.6/site-packages/ipykernel/kernelapp.py\", line 505, in start\n    self.io_loop.start()\n  File \"/home/maximus/miniconda3/lib/python3.6/site-packages/tornado/platform/asyncio.py\", line 132, in start\n    self.asyncio_loop.run_forever()\n  File \"/home/maximus/miniconda3/lib/python3.6/asyncio/base_events.py\", line 438, in run_forever\n    self._run_once()\n  File \"/home/maximus/miniconda3/lib/python3.6/asyncio/base_events.py\", line 1451, in _run_once\n    handle._run()\n  File \"/home/maximus/miniconda3/lib/python3.6/asyncio/events.py\", line 145, in _run\n    self._callback(*self._args)\n  File \"/home/maximus/miniconda3/lib/python3.6/site-packages/tornado/ioloop.py\", line 758, in _run_callback\n    ret = callback()\n  File \"/home/maximus/miniconda3/lib/python3.6/site-packages/tornado/stack_context.py\", line 300, in null_wrapper\n    return fn(*args, **kwargs)\n  File \"/home/maximus/miniconda3/lib/python3.6/site-packages/tornado/gen.py\", line 1233, in inner\n    self.run()\n  File \"/home/maximus/miniconda3/lib/python3.6/site-packages/tornado/gen.py\", line 1147, in run\n    yielded = self.gen.send(value)\n  File \"/home/maximus/miniconda3/lib/python3.6/site-packages/ipykernel/kernelbase.py\", line 357, in process_one\n    yield gen.maybe_future(dispatch(*args))\n  File \"/home/maximus/miniconda3/lib/python3.6/site-packages/tornado/gen.py\", line 326, in wrapper\n    yielded = next(result)\n  File \"/home/maximus/miniconda3/lib/python3.6/site-packages/ipykernel/kernelbase.py\", line 267, in dispatch_shell\n    yield gen.maybe_future(handler(stream, idents, msg))\n  File \"/home/maximus/miniconda3/lib/python3.6/site-packages/tornado/gen.py\", line 326, in wrapper\n    yielded = next(result)\n  File \"/home/maximus/miniconda3/lib/python3.6/site-packages/ipykernel/kernelbase.py\", line 534, in execute_request\n    user_expressions, allow_stdin,\n  File \"/home/maximus/miniconda3/lib/python3.6/site-packages/tornado/gen.py\", line 326, in wrapper\n    yielded = next(result)\n  File \"/home/maximus/miniconda3/lib/python3.6/site-packages/ipykernel/ipkernel.py\", line 294, in do_execute\n    res = shell.run_cell(code, store_history=store_history, silent=silent)\n  File \"/home/maximus/miniconda3/lib/python3.6/site-packages/ipykernel/zmqshell.py\", line 536, in run_cell\n    return super(ZMQInteractiveShell, self).run_cell(*args, **kwargs)\n  File \"/home/maximus/miniconda3/lib/python3.6/site-packages/IPython/core/interactiveshell.py\", line 2819, in run_cell\n    raw_cell, store_history, silent, shell_futures)\n  File \"/home/maximus/miniconda3/lib/python3.6/site-packages/IPython/core/interactiveshell.py\", line 2845, in _run_cell\n    return runner(coro)\n  File \"/home/maximus/miniconda3/lib/python3.6/site-packages/IPython/core/async_helpers.py\", line 67, in _pseudo_sync_runner\n    coro.send(None)\n  File \"/home/maximus/miniconda3/lib/python3.6/site-packages/IPython/core/interactiveshell.py\", line 3020, in run_cell_async\n    interactivity=interactivity, compiler=compiler, result=result)\n  File \"/home/maximus/miniconda3/lib/python3.6/site-packages/IPython/core/interactiveshell.py\", line 3185, in run_ast_nodes\n    if (yield from self.run_code(code, result)):\n  File \"/home/maximus/miniconda3/lib/python3.6/site-packages/IPython/core/interactiveshell.py\", line 3267, in run_code\n    exec(code_obj, self.user_global_ns, self.user_ns)\n  File \"<ipython-input-6-f02e6a6d3241>\", line 80, in <module>\n    loss_term2 = tf.linalg.logdet(cov_matrix)\n  File \"/home/maximus/miniconda3/lib/python3.6/site-packages/tensorflow/python/ops/linalg/linalg_impl.py\", line 87, in logdet\n    chol = gen_linalg_ops.cholesky(matrix)\n  File \"/home/maximus/miniconda3/lib/python3.6/site-packages/tensorflow/python/ops/gen_linalg_ops.py\", line 709, in cholesky\n    \"Cholesky\", input=input, name=name)\n  File \"/home/maximus/miniconda3/lib/python3.6/site-packages/tensorflow/python/framework/op_def_library.py\", line 787, in _apply_op_helper\n    op_def=op_def)\n  File \"/home/maximus/miniconda3/lib/python3.6/site-packages/tensorflow/python/util/deprecation.py\", line 488, in new_func\n    return func(*args, **kwargs)\n  File \"/home/maximus/miniconda3/lib/python3.6/site-packages/tensorflow/python/framework/ops.py\", line 3274, in create_op\n    op_def=op_def)\n  File \"/home/maximus/miniconda3/lib/python3.6/site-packages/tensorflow/python/framework/ops.py\", line 1770, in __init__\n    self._traceback = tf_stack.extract_stack()\n\nInvalidArgumentError (see above for traceback): Cholesky decomposition was not successful. The input might not be valid.\n\t [[node logdet/Cholesky (defined at <ipython-input-6-f02e6a6d3241>:80)  = Cholesky[T=DT_FLOAT, _device=\"/job:localhost/replica:0/task:0/device:CPU:0\"](add_2)]]\n"
     ]
    }
   ],
   "source": [
    "# TRAINING run for CD20 with GA\n",
    "\n",
    "# posit\n",
    "import time\n",
    "epochs = 100\n",
    "Ls = []\n",
    "prot_loss = []\n",
    "times = []\n",
    "epochs_list = []\n",
    "signatures = []\n",
    "gowers = []\n",
    "threshold = 0.0001\n",
    "learning_rate=0.1\n",
    "\n",
    "loss_0 = all_y[0].shape[0]\n",
    "loss_0 *= 0.5\n",
    "loss_0 *= np.log(2*np.pi)\n",
    "\n",
    "with tf.Session() as sess:\n",
    "#     for j in range(all_x.shape[0]):\n",
    "    for j in range(0, 1):\n",
    "        \n",
    "        sess.run(tf.global_variables_initializer())\n",
    "#         norm1, norm2, norm3, norm4 = sess.run([tf.reduce_sum(cov_matrix1 / sig1_pow2),\n",
    "#                                                tf.reduce_sum(cov_matrix2 / sig2_pow2),\n",
    "#                                                tf.reduce_sum(cov_matrix3 / sig3_pow2),\n",
    "#                                                tf.reduce_sum(cov_matrix4 / sig4_pow2)], \n",
    "#                                              feed_dict= {ix:all_x[j], y:all_y[j], possition: pos1})\n",
    "        \n",
    "#         print(norm1)\n",
    "#         print(norm2)\n",
    "#         print(norm3)\n",
    "#         print(norm4)\n",
    "        \n",
    "        norm1, norm2, norm3, norm4 = (1, 1, 1, 1)\n",
    "        \n",
    "        i = 0\n",
    "        s1_opt, s2_opt, s3_opt, s4_opt, l_opt = (0, 0, 0, 0, 0)\n",
    "        cm1_opt, cm2_opt, cm3_opt, cm4_opt = (0, 0, 0, 0)\n",
    "        min_loss_ever = np.float('inf')\n",
    "        \n",
    "        last_loss = -np.inf\n",
    "        new_loss = np.inf\n",
    "        \n",
    "        loss_list = []\n",
    "        t0 = time.time()\n",
    "        a, b, c, d, lt = 0.0, 0.0, 0.0, 0.0, 0.0\n",
    "        while(abs(last_loss-new_loss)>threshold) and (i < epochs):\n",
    "            cm1, cm2, cm3, cm4, a, b, c, d,lt, opt, los = sess.run(\n",
    "                [cov_matrix1, cov_matrix2, cov_matrix3, cov_matrix4, sig1, sig2, sig3, sig4,l,  optimizer, loss], \n",
    "                feed_dict= {ix:all_x[j], y:all_y[j], possition: pos1, lr:learning_rate, \n",
    "                           cov_norm1: norm1, cov_norm2: norm2, cov_norm3: norm3, cov_norm4: norm4})\n",
    "            los = los[0]\n",
    "#             loss_list.append(los)\n",
    "            i += 1\n",
    "            last_loss = new_loss\n",
    "            new_loss = los\n",
    "            \n",
    "            if min_loss_ever > los:\n",
    "                min_loss_ever = los\n",
    "                s1_opt, s2_opt, s3_opt, s4_opt, l_opt = (a, b, c, d, lt)\n",
    "                cm1_opt, cm2_opt, cm3_opt, cm4_opt = (cm1, cm2, cm3, cm4)\n",
    "\n",
    "            \n",
    "        prot_loss.append(min_loss_ever + loss_0)\n",
    "        signatures.append([s1_opt, s2_opt, s3_opt, s4_opt])\n",
    "        Ls.append(l_opt)\n",
    "        \n",
    "#         epochs_list.append(i-1)\n",
    "        t1 = time.time()\n",
    "        times.append(t1-t0)\n",
    "        gowers.append(gower(cm1_opt, cm2_opt, cm3_opt, cm4_opt))\n",
    "        \n",
    "        s1_opt /= math.sqrt(norm1)\n",
    "        s2_opt /= math.sqrt(norm2)\n",
    "        s3_opt /= math.sqrt(norm3)\n",
    "        s4_opt /= math.sqrt(norm4)\n",
    "        \n",
    "        # loading opt conds!\n",
    "        sess.run([tf.assign(sig1, s1_opt), tf.assign(sig2, s2_opt), tf.assign(sig3, s3_opt), tf.assign(sig4, s4_opt), tf.assign(l, l_opt)])\n",
    "\n",
    "        print(\"sig1 is: \", s1_opt, \"sig2 is: \", s2_opt, \"sig3 is: \", s3_opt, \"sig4 is: \", s4_opt, \"The L is: \", l_opt, \"Loss is: \", min_loss_ever)\n",
    "        print(\"time of calculation for ***\",prot_names[j],\"*** is: \" ,t1-t0)\n",
    "        print(\"--------------------------------------\")"
   ]
  },
  {
   "cell_type": "code",
   "execution_count": 119,
   "metadata": {},
   "outputs": [
    {
     "data": {
      "text/plain": [
       "array([35.70588798, 10.10000213, 25.47430786,  2.76115028, 49.2300355 ])"
      ]
     },
     "execution_count": 119,
     "metadata": {},
     "output_type": "execute_result"
    }
   ],
   "source": [
    "max_signature"
   ]
  }
 ],
 "metadata": {
  "kernelspec": {
   "display_name": "Python 3",
   "language": "python",
   "name": "python3"
  },
  "language_info": {
   "codemirror_mode": {
    "name": "ipython",
    "version": 3
   },
   "file_extension": ".py",
   "mimetype": "text/x-python",
   "name": "python",
   "nbconvert_exporter": "python",
   "pygments_lexer": "ipython3",
   "version": "3.6.8"
  }
 },
 "nbformat": 4,
 "nbformat_minor": 2
}
